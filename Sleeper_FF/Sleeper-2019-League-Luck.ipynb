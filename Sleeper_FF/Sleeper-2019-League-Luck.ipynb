{
 "cells": [
  {
   "cell_type": "code",
   "execution_count": 1,
   "metadata": {},
   "outputs": [],
   "source": [
    "import pandas as pd\n",
    "import requests"
   ]
  },
  {
   "cell_type": "code",
   "execution_count": 2,
   "metadata": {},
   "outputs": [],
   "source": [
    "import random\n",
    "import numpy as np\n",
    "import pandas as pd\n",
    "from scipy.stats import norm"
   ]
  },
  {
   "cell_type": "code",
   "execution_count": 3,
   "metadata": {},
   "outputs": [],
   "source": [
    "league_id = 384052481958785024\n",
    "base_url = 'https://api.sleeper.app/v1/league/' + str(league_id) + '/'"
   ]
  },
  {
   "cell_type": "markdown",
   "metadata": {},
   "source": [
    "## Get Sleeper User-Details"
   ]
  },
  {
   "cell_type": "code",
   "execution_count": 4,
   "metadata": {},
   "outputs": [],
   "source": [
    "teams = requests.get(base_url + 'users')"
   ]
  },
  {
   "cell_type": "code",
   "execution_count": 5,
   "metadata": {},
   "outputs": [],
   "source": [
    "team_lst = teams.json()"
   ]
  },
  {
   "cell_type": "code",
   "execution_count": 6,
   "metadata": {},
   "outputs": [],
   "source": [
    "team_tups = {}"
   ]
  },
  {
   "cell_type": "code",
   "execution_count": 7,
   "metadata": {},
   "outputs": [],
   "source": [
    "for val in team_lst:\n",
    "    team_tups[val['display_name']] = val['user_id']"
   ]
  },
  {
   "cell_type": "code",
   "execution_count": 8,
   "metadata": {},
   "outputs": [
    {
     "data": {
      "text/plain": [
       "{'msubbaiah': '307654863477538816',\n",
       " 'dhaksubb': '307663062192619520',\n",
       " 'bhargavesh': '307664367791390720',\n",
       " 'rbachal': '307942185758621696',\n",
       " 'GADI': '307946516406890496',\n",
       " 'SAADMONIUSREX': '309778749241454592',\n",
       " 'ssudhish10': '309848813416226816',\n",
       " 'cvalluru': '310592766369361920',\n",
       " 'mmj762': '332232044425797632',\n",
       " 'arvindsivak': '463448194244669440'}"
      ]
     },
     "execution_count": 8,
     "metadata": {},
     "output_type": "execute_result"
    }
   ],
   "source": [
    "team_tups"
   ]
  },
  {
   "cell_type": "code",
   "execution_count": 9,
   "metadata": {},
   "outputs": [],
   "source": [
    "df = pd.DataFrame.from_dict(team_tups,orient='index').reset_index()\n",
    "df.columns = ['user_name','user_id']\n",
    "df['roster_id'] = 0"
   ]
  },
  {
   "cell_type": "code",
   "execution_count": 10,
   "metadata": {},
   "outputs": [
    {
     "data": {
      "text/html": [
       "<div>\n",
       "<style scoped>\n",
       "    .dataframe tbody tr th:only-of-type {\n",
       "        vertical-align: middle;\n",
       "    }\n",
       "\n",
       "    .dataframe tbody tr th {\n",
       "        vertical-align: top;\n",
       "    }\n",
       "\n",
       "    .dataframe thead th {\n",
       "        text-align: right;\n",
       "    }\n",
       "</style>\n",
       "<table border=\"1\" class=\"dataframe\">\n",
       "  <thead>\n",
       "    <tr style=\"text-align: right;\">\n",
       "      <th></th>\n",
       "      <th>user_name</th>\n",
       "      <th>user_id</th>\n",
       "      <th>roster_id</th>\n",
       "    </tr>\n",
       "  </thead>\n",
       "  <tbody>\n",
       "    <tr>\n",
       "      <th>0</th>\n",
       "      <td>msubbaiah</td>\n",
       "      <td>307654863477538816</td>\n",
       "      <td>0</td>\n",
       "    </tr>\n",
       "    <tr>\n",
       "      <th>1</th>\n",
       "      <td>dhaksubb</td>\n",
       "      <td>307663062192619520</td>\n",
       "      <td>0</td>\n",
       "    </tr>\n",
       "    <tr>\n",
       "      <th>2</th>\n",
       "      <td>bhargavesh</td>\n",
       "      <td>307664367791390720</td>\n",
       "      <td>0</td>\n",
       "    </tr>\n",
       "    <tr>\n",
       "      <th>3</th>\n",
       "      <td>rbachal</td>\n",
       "      <td>307942185758621696</td>\n",
       "      <td>0</td>\n",
       "    </tr>\n",
       "    <tr>\n",
       "      <th>4</th>\n",
       "      <td>GADI</td>\n",
       "      <td>307946516406890496</td>\n",
       "      <td>0</td>\n",
       "    </tr>\n",
       "  </tbody>\n",
       "</table>\n",
       "</div>"
      ],
      "text/plain": [
       "    user_name             user_id  roster_id\n",
       "0   msubbaiah  307654863477538816          0\n",
       "1    dhaksubb  307663062192619520          0\n",
       "2  bhargavesh  307664367791390720          0\n",
       "3     rbachal  307942185758621696          0\n",
       "4        GADI  307946516406890496          0"
      ]
     },
     "execution_count": 10,
     "metadata": {},
     "output_type": "execute_result"
    }
   ],
   "source": [
    "df.head()"
   ]
  },
  {
   "cell_type": "markdown",
   "metadata": {},
   "source": [
    "Add in roster information as well to the lookup dataframe. "
   ]
  },
  {
   "cell_type": "code",
   "execution_count": 11,
   "metadata": {},
   "outputs": [],
   "source": [
    "rosters = requests.get(base_url + 'rosters')"
   ]
  },
  {
   "cell_type": "code",
   "execution_count": 12,
   "metadata": {},
   "outputs": [],
   "source": [
    "rj = rosters.json()"
   ]
  },
  {
   "cell_type": "code",
   "execution_count": 13,
   "metadata": {},
   "outputs": [],
   "source": [
    "for val in rj:\n",
    "    df.loc[df['user_id'] == val['owner_id'],'roster_id'] = val['roster_id']"
   ]
  },
  {
   "cell_type": "code",
   "execution_count": 14,
   "metadata": {},
   "outputs": [],
   "source": [
    "user_roster_map = df.set_index('roster_id').T.to_dict('records')[0]"
   ]
  },
  {
   "cell_type": "code",
   "execution_count": 15,
   "metadata": {},
   "outputs": [
    {
     "data": {
      "text/plain": [
       "{1: 'msubbaiah',\n",
       " 2: 'dhaksubb',\n",
       " 3: 'bhargavesh',\n",
       " 4: 'rbachal',\n",
       " 5: 'GADI',\n",
       " 6: 'SAADMONIUSREX',\n",
       " 8: 'ssudhish10',\n",
       " 9: 'cvalluru',\n",
       " 7: 'mmj762',\n",
       " 10: 'arvindsivak'}"
      ]
     },
     "execution_count": 15,
     "metadata": {},
     "output_type": "execute_result"
    }
   ],
   "source": [
    "user_roster_map"
   ]
  },
  {
   "cell_type": "markdown",
   "metadata": {},
   "source": [
    "## Get week to week data"
   ]
  },
  {
   "cell_type": "code",
   "execution_count": 16,
   "metadata": {},
   "outputs": [],
   "source": [
    "def extract_pts(lst,dct=None):\n",
    "    if(dct is None):\n",
    "        dct = {}\n",
    "        for l in lst:\n",
    "            dct[l['roster_id']] = [l['points']]\n",
    "    else: \n",
    "        for l in lst: \n",
    "            dct[l['roster_id']].append(l['points'])\n",
    "    return(dct)"
   ]
  },
  {
   "cell_type": "code",
   "execution_count": 17,
   "metadata": {},
   "outputs": [],
   "source": [
    "weeks = range(1,14)"
   ]
  },
  {
   "cell_type": "code",
   "execution_count": 25,
   "metadata": {},
   "outputs": [
    {
     "name": "stdout",
     "output_type": "stream",
     "text": [
      "1\n",
      "2\n",
      "3\n",
      "4\n",
      "5\n",
      "6\n",
      "7\n",
      "8\n",
      "9\n",
      "10\n",
      "11\n",
      "12\n",
      "13\n"
     ]
    }
   ],
   "source": [
    "for i in weeks:\n",
    "    print(i)\n",
    "    wk = requests.get(base_url + 'matchups/' + str(i))\n",
    "    wk_vals = wk.json()\n",
    "    if(i==1):\n",
    "        res_dct = extract_pts(wk_vals)\n",
    "        continue\n",
    "    res_dct = extract_pts(wk_vals,res_dct)"
   ]
  },
  {
   "cell_type": "code",
   "execution_count": 27,
   "metadata": {},
   "outputs": [],
   "source": [
    "def sim(team, team_dict):\n",
    "    keys = list(team_dict.keys())\n",
    "    keys.remove(team)\n",
    "    opponents = np.random.choice(keys,size=13,replace = True)\n",
    "    wins = 0\n",
    "    for i, score in enumerate(team_dict[team]):\n",
    "        if team_dict[opponents[i]][i] < score:\n",
    "            wins += 1\n",
    "    return(wins)"
   ]
  },
  {
   "cell_type": "code",
   "execution_count": 28,
   "metadata": {},
   "outputs": [],
   "source": [
    "def prop_of_reality(team,team_dict):\n",
    "    results = {}\n",
    "    for i in range(100000):\n",
    "        results[i] = sim(team, team_dict)\n",
    "    SResults = pd.Series(results)\n",
    "    mu = SResults.mean()\n",
    "    std = SResults.std()\n",
    "    print(mu,std)\n",
    "    p0 = norm.cdf(0, loc=mu, scale = std)\n",
    "    p1 = norm.cdf(1, loc=mu, scale = std)\n",
    "    p2 = norm.cdf(2, loc=mu, scale = std)\n",
    "    p3 = norm.cdf(3, loc=mu, scale = std)\n",
    "    p4 = norm.cdf(4, loc=mu, scale = std)\n",
    "    p5 = norm.cdf(5, loc=mu, scale = std)\n",
    "    p6 = norm.cdf(6, loc=mu, scale=std)\n",
    "    p7 = norm.cdf(7, loc=mu, scale=std)\n",
    "    p8 = norm.cdf(8, loc=mu, scale=std)\n",
    "    p9 = norm.cdf(9, loc=mu, scale=std)\n",
    "    p10 = norm.cdf(10, loc=mu, scale=std)   \n",
    "    p11 = norm.cdf(11, loc=mu, scale=std)\n",
    "    p12 = norm.cdf(12, loc=mu, scale=std)\n",
    "    p13 = norm.cdf(13, loc=mu, scale=std)\n",
    "    return(pd.Series({\"w0\":p0, \"w1\": p1-p0, \"w2\": p2-p1, \\\n",
    "                     \"w3\":p3-p2, \"w4\":p4-p3,'w5':p5-p4,'w6':p6-p5,'w7':p7-p6,\n",
    "                     'w8':p8-p7, 'w9':p9-p8, 'w10':p10-p9,'w11':p11-p10,\n",
    "                     'w12':p12-p11,'w13':1-p13}))"
   ]
  },
  {
   "cell_type": "code",
   "execution_count": 29,
   "metadata": {},
   "outputs": [],
   "source": [
    "df = pd.DataFrame()"
   ]
  },
  {
   "cell_type": "code",
   "execution_count": 30,
   "metadata": {},
   "outputs": [
    {
     "name": "stdout",
     "output_type": "stream",
     "text": [
      "msubbaiah\n",
      "7.22919 1.4235667210644585\n",
      "dhaksubb\n",
      "6.66746 1.434711724486101\n",
      "bhargavesh\n",
      "5.4468 1.3664071247922605\n",
      "rbachal\n",
      "3.78058 1.268215654890719\n",
      "GADI\n",
      "6.22342 1.4254416236517746\n",
      "SAADMONIUSREX\n",
      "9.33108 1.222939487222664\n",
      "mmj762\n",
      "7.4413 1.3813664943578154\n",
      "ssudhish10\n",
      "6.4429 1.4589931036881163\n",
      "cvalluru\n",
      "7.33133 1.5133516886151561\n",
      "arvindsivak\n",
      "5.10991 1.3709225310670967\n"
     ]
    }
   ],
   "source": [
    "for team in res_dct.keys():\n",
    "    tm_name = user_roster_map[team]\n",
    "    print(tm_name)\n",
    "    df[tm_name] =prop_of_reality(team,res_dct)"
   ]
  },
  {
   "cell_type": "code",
   "execution_count": 31,
   "metadata": {},
   "outputs": [
    {
     "data": {
      "text/html": [
       "<div>\n",
       "<style scoped>\n",
       "    .dataframe tbody tr th:only-of-type {\n",
       "        vertical-align: middle;\n",
       "    }\n",
       "\n",
       "    .dataframe tbody tr th {\n",
       "        vertical-align: top;\n",
       "    }\n",
       "\n",
       "    .dataframe thead th {\n",
       "        text-align: right;\n",
       "    }\n",
       "</style>\n",
       "<table border=\"1\" class=\"dataframe\">\n",
       "  <thead>\n",
       "    <tr style=\"text-align: right;\">\n",
       "      <th></th>\n",
       "      <th>msubbaiah</th>\n",
       "      <th>dhaksubb</th>\n",
       "      <th>bhargavesh</th>\n",
       "      <th>rbachal</th>\n",
       "      <th>GADI</th>\n",
       "      <th>SAADMONIUSREX</th>\n",
       "      <th>mmj762</th>\n",
       "      <th>ssudhish10</th>\n",
       "      <th>cvalluru</th>\n",
       "      <th>arvindsivak</th>\n",
       "    </tr>\n",
       "  </thead>\n",
       "  <tbody>\n",
       "    <tr>\n",
       "      <th>0-13</th>\n",
       "      <td>0.000</td>\n",
       "      <td>0.000</td>\n",
       "      <td>0.000</td>\n",
       "      <td>0.001</td>\n",
       "      <td>0.000</td>\n",
       "      <td>0.000</td>\n",
       "      <td>0.000</td>\n",
       "      <td>0.000</td>\n",
       "      <td>0.000</td>\n",
       "      <td>0.000</td>\n",
       "    </tr>\n",
       "    <tr>\n",
       "      <th>1-12</th>\n",
       "      <td>0.000</td>\n",
       "      <td>0.000</td>\n",
       "      <td>0.001</td>\n",
       "      <td>0.013</td>\n",
       "      <td>0.000</td>\n",
       "      <td>0.000</td>\n",
       "      <td>0.000</td>\n",
       "      <td>0.000</td>\n",
       "      <td>0.000</td>\n",
       "      <td>0.001</td>\n",
       "    </tr>\n",
       "    <tr>\n",
       "      <th>2-11</th>\n",
       "      <td>0.000</td>\n",
       "      <td>0.001</td>\n",
       "      <td>0.005</td>\n",
       "      <td>0.066</td>\n",
       "      <td>0.001</td>\n",
       "      <td>0.000</td>\n",
       "      <td>0.000</td>\n",
       "      <td>0.001</td>\n",
       "      <td>0.000</td>\n",
       "      <td>0.010</td>\n",
       "    </tr>\n",
       "    <tr>\n",
       "      <th>3-10</th>\n",
       "      <td>0.001</td>\n",
       "      <td>0.005</td>\n",
       "      <td>0.031</td>\n",
       "      <td>0.189</td>\n",
       "      <td>0.010</td>\n",
       "      <td>0.000</td>\n",
       "      <td>0.001</td>\n",
       "      <td>0.008</td>\n",
       "      <td>0.002</td>\n",
       "      <td>0.050</td>\n",
       "    </tr>\n",
       "    <tr>\n",
       "      <th>4-9</th>\n",
       "      <td>0.010</td>\n",
       "      <td>0.026</td>\n",
       "      <td>0.108</td>\n",
       "      <td>0.300</td>\n",
       "      <td>0.048</td>\n",
       "      <td>0.000</td>\n",
       "      <td>0.006</td>\n",
       "      <td>0.038</td>\n",
       "      <td>0.012</td>\n",
       "      <td>0.147</td>\n",
       "    </tr>\n",
       "    <tr>\n",
       "      <th>5-8</th>\n",
       "      <td>0.047</td>\n",
       "      <td>0.091</td>\n",
       "      <td>0.227</td>\n",
       "      <td>0.263</td>\n",
       "      <td>0.136</td>\n",
       "      <td>0.000</td>\n",
       "      <td>0.032</td>\n",
       "      <td>0.114</td>\n",
       "      <td>0.048</td>\n",
       "      <td>0.259</td>\n",
       "    </tr>\n",
       "    <tr>\n",
       "      <th>6-7</th>\n",
       "      <td>0.135</td>\n",
       "      <td>0.198</td>\n",
       "      <td>0.285</td>\n",
       "      <td>0.128</td>\n",
       "      <td>0.242</td>\n",
       "      <td>0.003</td>\n",
       "      <td>0.110</td>\n",
       "      <td>0.219</td>\n",
       "      <td>0.128</td>\n",
       "      <td>0.274</td>\n",
       "    </tr>\n",
       "    <tr>\n",
       "      <th>7-6</th>\n",
       "      <td>0.242</td>\n",
       "      <td>0.271</td>\n",
       "      <td>0.215</td>\n",
       "      <td>0.034</td>\n",
       "      <td>0.269</td>\n",
       "      <td>0.025</td>\n",
       "      <td>0.226</td>\n",
       "      <td>0.268</td>\n",
       "      <td>0.224</td>\n",
       "      <td>0.174</td>\n",
       "    </tr>\n",
       "    <tr>\n",
       "      <th>8-5</th>\n",
       "      <td>0.270</td>\n",
       "      <td>0.232</td>\n",
       "      <td>0.097</td>\n",
       "      <td>0.005</td>\n",
       "      <td>0.187</td>\n",
       "      <td>0.110</td>\n",
       "      <td>0.282</td>\n",
       "      <td>0.208</td>\n",
       "      <td>0.257</td>\n",
       "      <td>0.066</td>\n",
       "    </tr>\n",
       "    <tr>\n",
       "      <th>9-4</th>\n",
       "      <td>0.187</td>\n",
       "      <td>0.125</td>\n",
       "      <td>0.026</td>\n",
       "      <td>0.000</td>\n",
       "      <td>0.081</td>\n",
       "      <td>0.255</td>\n",
       "      <td>0.213</td>\n",
       "      <td>0.103</td>\n",
       "      <td>0.194</td>\n",
       "      <td>0.015</td>\n",
       "    </tr>\n",
       "    <tr>\n",
       "      <th>10-3</th>\n",
       "      <td>0.081</td>\n",
       "      <td>0.042</td>\n",
       "      <td>0.004</td>\n",
       "      <td>0.000</td>\n",
       "      <td>0.022</td>\n",
       "      <td>0.315</td>\n",
       "      <td>0.098</td>\n",
       "      <td>0.032</td>\n",
       "      <td>0.096</td>\n",
       "      <td>0.002</td>\n",
       "    </tr>\n",
       "    <tr>\n",
       "      <th>11-2</th>\n",
       "      <td>0.022</td>\n",
       "      <td>0.009</td>\n",
       "      <td>0.000</td>\n",
       "      <td>0.000</td>\n",
       "      <td>0.004</td>\n",
       "      <td>0.206</td>\n",
       "      <td>0.027</td>\n",
       "      <td>0.006</td>\n",
       "      <td>0.031</td>\n",
       "      <td>0.000</td>\n",
       "    </tr>\n",
       "    <tr>\n",
       "      <th>12-1</th>\n",
       "      <td>0.004</td>\n",
       "      <td>0.001</td>\n",
       "      <td>0.000</td>\n",
       "      <td>0.000</td>\n",
       "      <td>0.000</td>\n",
       "      <td>0.072</td>\n",
       "      <td>0.005</td>\n",
       "      <td>0.001</td>\n",
       "      <td>0.007</td>\n",
       "      <td>0.000</td>\n",
       "    </tr>\n",
       "    <tr>\n",
       "      <th>13-0</th>\n",
       "      <td>0.000</td>\n",
       "      <td>0.000</td>\n",
       "      <td>0.000</td>\n",
       "      <td>0.000</td>\n",
       "      <td>0.000</td>\n",
       "      <td>0.001</td>\n",
       "      <td>0.000</td>\n",
       "      <td>0.000</td>\n",
       "      <td>0.000</td>\n",
       "      <td>0.000</td>\n",
       "    </tr>\n",
       "  </tbody>\n",
       "</table>\n",
       "</div>"
      ],
      "text/plain": [
       "      msubbaiah  dhaksubb  bhargavesh  rbachal  GADI  SAADMONIUSREX  mmj762  \\\n",
       "0-13      0.000     0.000       0.000    0.001 0.000          0.000   0.000   \n",
       "1-12      0.000     0.000       0.001    0.013 0.000          0.000   0.000   \n",
       "2-11      0.000     0.001       0.005    0.066 0.001          0.000   0.000   \n",
       "3-10      0.001     0.005       0.031    0.189 0.010          0.000   0.001   \n",
       "4-9       0.010     0.026       0.108    0.300 0.048          0.000   0.006   \n",
       "5-8       0.047     0.091       0.227    0.263 0.136          0.000   0.032   \n",
       "6-7       0.135     0.198       0.285    0.128 0.242          0.003   0.110   \n",
       "7-6       0.242     0.271       0.215    0.034 0.269          0.025   0.226   \n",
       "8-5       0.270     0.232       0.097    0.005 0.187          0.110   0.282   \n",
       "9-4       0.187     0.125       0.026    0.000 0.081          0.255   0.213   \n",
       "10-3      0.081     0.042       0.004    0.000 0.022          0.315   0.098   \n",
       "11-2      0.022     0.009       0.000    0.000 0.004          0.206   0.027   \n",
       "12-1      0.004     0.001       0.000    0.000 0.000          0.072   0.005   \n",
       "13-0      0.000     0.000       0.000    0.000 0.000          0.001   0.000   \n",
       "\n",
       "      ssudhish10  cvalluru  arvindsivak  \n",
       "0-13       0.000     0.000        0.000  \n",
       "1-12       0.000     0.000        0.001  \n",
       "2-11       0.001     0.000        0.010  \n",
       "3-10       0.008     0.002        0.050  \n",
       "4-9        0.038     0.012        0.147  \n",
       "5-8        0.114     0.048        0.259  \n",
       "6-7        0.219     0.128        0.274  \n",
       "7-6        0.268     0.224        0.174  \n",
       "8-5        0.208     0.257        0.066  \n",
       "9-4        0.103     0.194        0.015  \n",
       "10-3       0.032     0.096        0.002  \n",
       "11-2       0.006     0.031        0.000  \n",
       "12-1       0.001     0.007        0.000  \n",
       "13-0       0.000     0.000        0.000  "
      ]
     },
     "execution_count": 31,
     "metadata": {},
     "output_type": "execute_result"
    }
   ],
   "source": [
    "pd.set_option('display.float_format', lambda x: '%.3f' % x)\n",
    "df.index =['0-13','1-12','2-11','3-10','4-9','5-8','6-7','7-6','8-5','9-4','10-3','11-2','12-1','13-0']\n",
    "df"
   ]
  },
  {
   "cell_type": "code",
   "execution_count": 32,
   "metadata": {},
   "outputs": [
    {
     "data": {
      "text/plain": [
       "msubbaiah       1.000\n",
       "dhaksubb        1.000\n",
       "bhargavesh      1.000\n",
       "rbachal         1.000\n",
       "GADI            1.000\n",
       "SAADMONIUSREX   0.987\n",
       "mmj762          1.000\n",
       "ssudhish10      1.000\n",
       "cvalluru        0.999\n",
       "arvindsivak     1.000\n",
       "dtype: float64"
      ]
     },
     "execution_count": 32,
     "metadata": {},
     "output_type": "execute_result"
    }
   ],
   "source": [
    "df.sum(axis=0)"
   ]
  },
  {
   "cell_type": "code",
   "execution_count": 33,
   "metadata": {},
   "outputs": [],
   "source": [
    "df.to_csv('Sleeper-2019-Luck-Proj.csv')"
   ]
  },
  {
   "cell_type": "code",
   "execution_count": null,
   "metadata": {},
   "outputs": [],
   "source": []
  }
 ],
 "metadata": {
  "kernelspec": {
   "display_name": "Python 3",
   "language": "python",
   "name": "python3"
  },
  "language_info": {
   "codemirror_mode": {
    "name": "ipython",
    "version": 3
   },
   "file_extension": ".py",
   "mimetype": "text/x-python",
   "name": "python",
   "nbconvert_exporter": "python",
   "pygments_lexer": "ipython3",
   "version": "3.6.5"
  }
 },
 "nbformat": 4,
 "nbformat_minor": 4
}
