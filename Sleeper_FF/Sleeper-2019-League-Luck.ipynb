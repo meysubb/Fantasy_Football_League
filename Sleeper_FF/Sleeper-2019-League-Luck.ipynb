{
 "cells": [
  {
   "cell_type": "code",
   "execution_count": 1,
   "metadata": {},
   "outputs": [],
   "source": [
    "import pandas as pd\n",
    "import requests"
   ]
  },
  {
   "cell_type": "code",
   "execution_count": 2,
   "metadata": {},
   "outputs": [],
   "source": [
    "import random\n",
    "import numpy as np\n",
    "import pandas as pd\n",
    "from scipy.stats import norm"
   ]
  },
  {
   "cell_type": "code",
   "execution_count": 3,
   "metadata": {},
   "outputs": [],
   "source": [
    "league_id = 384052481958785024\n",
    "base_url = 'https://api.sleeper.app/v1/league/' + str(league_id) + '/'"
   ]
  },
  {
   "cell_type": "markdown",
   "metadata": {},
   "source": [
    "## Get Sleeper User-Details"
   ]
  },
  {
   "cell_type": "code",
   "execution_count": 4,
   "metadata": {},
   "outputs": [],
   "source": [
    "teams = requests.get(base_url + 'users')"
   ]
  },
  {
   "cell_type": "code",
   "execution_count": 5,
   "metadata": {},
   "outputs": [],
   "source": [
    "team_lst = teams.json()"
   ]
  },
  {
   "cell_type": "code",
   "execution_count": 6,
   "metadata": {},
   "outputs": [],
   "source": [
    "team_tups = {}"
   ]
  },
  {
   "cell_type": "code",
   "execution_count": 7,
   "metadata": {},
   "outputs": [],
   "source": [
    "for val in team_lst:\n",
    "    team_tups[val['display_name']] = val['user_id']"
   ]
  },
  {
   "cell_type": "code",
   "execution_count": 8,
   "metadata": {},
   "outputs": [
    {
     "data": {
      "text/plain": [
       "{'msubbaiah': '307654863477538816',\n",
       " 'dhaksubb': '307663062192619520',\n",
       " 'bhargavesh': '307664367791390720',\n",
       " 'rbachal': '307942185758621696',\n",
       " 'GADI': '307946516406890496',\n",
       " 'SAADMONIUSREX': '309778749241454592',\n",
       " 'ssudhish10': '309848813416226816',\n",
       " 'cvalluru': '310592766369361920',\n",
       " 'mmj762': '332232044425797632',\n",
       " 'arvindsivak': '463448194244669440'}"
      ]
     },
     "execution_count": 8,
     "metadata": {},
     "output_type": "execute_result"
    }
   ],
   "source": [
    "team_tups"
   ]
  },
  {
   "cell_type": "code",
   "execution_count": 9,
   "metadata": {},
   "outputs": [],
   "source": [
    "df = pd.DataFrame.from_dict(team_tups,orient='index').reset_index()\n",
    "df.columns = ['user_name','user_id']\n",
    "df['roster_id'] = 0"
   ]
  },
  {
   "cell_type": "code",
   "execution_count": 10,
   "metadata": {},
   "outputs": [
    {
     "data": {
      "text/html": [
       "<div>\n",
       "<style scoped>\n",
       "    .dataframe tbody tr th:only-of-type {\n",
       "        vertical-align: middle;\n",
       "    }\n",
       "\n",
       "    .dataframe tbody tr th {\n",
       "        vertical-align: top;\n",
       "    }\n",
       "\n",
       "    .dataframe thead th {\n",
       "        text-align: right;\n",
       "    }\n",
       "</style>\n",
       "<table border=\"1\" class=\"dataframe\">\n",
       "  <thead>\n",
       "    <tr style=\"text-align: right;\">\n",
       "      <th></th>\n",
       "      <th>user_name</th>\n",
       "      <th>user_id</th>\n",
       "      <th>roster_id</th>\n",
       "    </tr>\n",
       "  </thead>\n",
       "  <tbody>\n",
       "    <tr>\n",
       "      <th>0</th>\n",
       "      <td>msubbaiah</td>\n",
       "      <td>307654863477538816</td>\n",
       "      <td>0</td>\n",
       "    </tr>\n",
       "    <tr>\n",
       "      <th>1</th>\n",
       "      <td>dhaksubb</td>\n",
       "      <td>307663062192619520</td>\n",
       "      <td>0</td>\n",
       "    </tr>\n",
       "    <tr>\n",
       "      <th>2</th>\n",
       "      <td>bhargavesh</td>\n",
       "      <td>307664367791390720</td>\n",
       "      <td>0</td>\n",
       "    </tr>\n",
       "    <tr>\n",
       "      <th>3</th>\n",
       "      <td>rbachal</td>\n",
       "      <td>307942185758621696</td>\n",
       "      <td>0</td>\n",
       "    </tr>\n",
       "    <tr>\n",
       "      <th>4</th>\n",
       "      <td>GADI</td>\n",
       "      <td>307946516406890496</td>\n",
       "      <td>0</td>\n",
       "    </tr>\n",
       "  </tbody>\n",
       "</table>\n",
       "</div>"
      ],
      "text/plain": [
       "    user_name             user_id  roster_id\n",
       "0   msubbaiah  307654863477538816          0\n",
       "1    dhaksubb  307663062192619520          0\n",
       "2  bhargavesh  307664367791390720          0\n",
       "3     rbachal  307942185758621696          0\n",
       "4        GADI  307946516406890496          0"
      ]
     },
     "execution_count": 10,
     "metadata": {},
     "output_type": "execute_result"
    }
   ],
   "source": [
    "df.head()"
   ]
  },
  {
   "cell_type": "markdown",
   "metadata": {},
   "source": [
    "Add in roster information as well to the lookup dataframe. "
   ]
  },
  {
   "cell_type": "code",
   "execution_count": 11,
   "metadata": {},
   "outputs": [],
   "source": [
    "rosters = requests.get(base_url + 'rosters')"
   ]
  },
  {
   "cell_type": "code",
   "execution_count": 12,
   "metadata": {},
   "outputs": [],
   "source": [
    "rj = rosters.json()"
   ]
  },
  {
   "cell_type": "code",
   "execution_count": 13,
   "metadata": {},
   "outputs": [],
   "source": [
    "for val in rj:\n",
    "    df.loc[df['user_id'] == val['owner_id'],'roster_id'] = val['roster_id']"
   ]
  },
  {
   "cell_type": "code",
   "execution_count": 14,
   "metadata": {},
   "outputs": [],
   "source": [
    "user_roster_map = df.set_index('roster_id').T.to_dict('records')[0]"
   ]
  },
  {
   "cell_type": "code",
   "execution_count": 15,
   "metadata": {},
   "outputs": [
    {
     "data": {
      "text/plain": [
       "{1: 'msubbaiah',\n",
       " 2: 'dhaksubb',\n",
       " 3: 'bhargavesh',\n",
       " 4: 'rbachal',\n",
       " 5: 'GADI',\n",
       " 6: 'SAADMONIUSREX',\n",
       " 8: 'ssudhish10',\n",
       " 9: 'cvalluru',\n",
       " 7: 'mmj762',\n",
       " 10: 'arvindsivak'}"
      ]
     },
     "execution_count": 15,
     "metadata": {},
     "output_type": "execute_result"
    }
   ],
   "source": [
    "user_roster_map"
   ]
  },
  {
   "cell_type": "markdown",
   "metadata": {},
   "source": [
    "## Get week to week data"
   ]
  },
  {
   "cell_type": "code",
   "execution_count": 16,
   "metadata": {},
   "outputs": [],
   "source": [
    "def extract_pts(lst,dct=None):\n",
    "    if(dct is None):\n",
    "        dct = {}\n",
    "        for l in lst:\n",
    "            dct[l['roster_id']] = [l['points']]\n",
    "    else: \n",
    "        for l in lst: \n",
    "            dct[l['roster_id']].append(l['points'])\n",
    "    return(dct)"
   ]
  },
  {
   "cell_type": "code",
   "execution_count": 17,
   "metadata": {},
   "outputs": [],
   "source": [
    "weeks = range(1,8)"
   ]
  },
  {
   "cell_type": "code",
   "execution_count": 18,
   "metadata": {},
   "outputs": [],
   "source": [
    "for i in weeks:\n",
    "    wk = requests.get(base_url + 'matchups/' + str(i))\n",
    "    wk_vals = wk.json()\n",
    "    if(i==1):\n",
    "        res_dct = extract_pts(wk_vals)\n",
    "    res_dct = extract_pts(wk_vals,res_dct)"
   ]
  },
  {
   "cell_type": "code",
   "execution_count": 19,
   "metadata": {},
   "outputs": [
    {
     "data": {
      "text/plain": [
       "{1: [108.2699966430664,\n",
       "  108.2699966430664,\n",
       "  134.86000061035156,\n",
       "  113.54000091552734,\n",
       "  107.69999694824219,\n",
       "  207.38999938964844,\n",
       "  147.25,\n",
       "  101.37000274658203],\n",
       " 2: [130.6999969482422,\n",
       "  130.6999969482422,\n",
       "  95.06999969482422,\n",
       "  160.02000427246094,\n",
       "  107.80000305175781,\n",
       "  115.68000030517578,\n",
       "  94.69999694824219,\n",
       "  116.9800033569336],\n",
       " 3: [128.08999633789062,\n",
       "  128.08999633789062,\n",
       "  99.25,\n",
       "  146.08999633789062,\n",
       "  81.80000305175781,\n",
       "  125.2699966430664,\n",
       "  156.8000030517578,\n",
       "  83.62000274658203],\n",
       " 4: [116.5999984741211,\n",
       "  116.5999984741211,\n",
       "  104.70999908447266,\n",
       "  108.44000244140625,\n",
       "  131.3699951171875,\n",
       "  146.1199951171875,\n",
       "  88.47000122070312,\n",
       "  111.55999755859375],\n",
       " 5: [100.9800033569336,\n",
       "  100.9800033569336,\n",
       "  118.05999755859375,\n",
       "  119.79000091552734,\n",
       "  74.44999694824219,\n",
       "  111.19999694824219,\n",
       "  133.9600067138672,\n",
       "  119.80999755859375],\n",
       " 6: [178.77000427246094,\n",
       "  178.77000427246094,\n",
       "  112.04000091552734,\n",
       "  176.7100067138672,\n",
       "  157.64999389648438,\n",
       "  162.00999450683594,\n",
       "  104.63999938964844,\n",
       "  95.33999633789062],\n",
       " 7: [102.11000061035156,\n",
       "  102.11000061035156,\n",
       "  148.52000427246094,\n",
       "  144.6699981689453,\n",
       "  114.5199966430664,\n",
       "  74.47000122070312,\n",
       "  180.25,\n",
       "  96.66000366210938],\n",
       " 8: [130.77000427246094,\n",
       "  130.77000427246094,\n",
       "  148.07000732421875,\n",
       "  138.7100067138672,\n",
       "  89.44999694824219,\n",
       "  161.7899932861328,\n",
       "  90.22000122070312,\n",
       "  95.69000244140625],\n",
       " 9: [126.20999908447266,\n",
       "  126.20999908447266,\n",
       "  118.80000305175781,\n",
       "  139.80999755859375,\n",
       "  114.87999725341797,\n",
       "  129.1999969482422,\n",
       "  164.58999633789062,\n",
       "  105.45999908447266],\n",
       " 10: [118.47000122070312,\n",
       "  118.47000122070312,\n",
       "  129.1300048828125,\n",
       "  79.37999725341797,\n",
       "  129.75999450683594,\n",
       "  73.33999633789062,\n",
       "  117.63999938964844,\n",
       "  93.62000274658203]}"
      ]
     },
     "execution_count": 19,
     "metadata": {},
     "output_type": "execute_result"
    }
   ],
   "source": [
    "res_dct"
   ]
  },
  {
   "cell_type": "code",
   "execution_count": 20,
   "metadata": {},
   "outputs": [],
   "source": [
    "## Create Simulation"
   ]
  },
  {
   "cell_type": "code",
   "execution_count": 33,
   "metadata": {},
   "outputs": [],
   "source": [
    "def sim(team, team_dict):\n",
    "    keys = list(team_dict.keys())\n",
    "    keys.remove(team)\n",
    "    opponents = np.random.choice(keys,size=11,replace = True)\n",
    "    wins = 0\n",
    "    for i, score in enumerate(team_dict[team]):\n",
    "        if team_dict[opponents[i]][i] < score:\n",
    "            wins += 1\n",
    "    return(wins)"
   ]
  },
  {
   "cell_type": "code",
   "execution_count": 34,
   "metadata": {},
   "outputs": [],
   "source": [
    "def prop_of_reality(team,team_dict):\n",
    "    results = {}\n",
    "    for i in range(100000):\n",
    "        results[i] = sim(team, team_dict)\n",
    "    SResults = pd.Series(results)\n",
    "    mu = SResults.mean()\n",
    "    std = SResults.std()\n",
    "    print(mu,std)\n",
    "    p0 = norm.cdf(0, loc=mu, scale = std)\n",
    "    p1 = norm.cdf(1, loc=mu, scale = std)\n",
    "    p2 = norm.cdf(2, loc=mu, scale = std)\n",
    "    p3 = norm.cdf(3, loc=mu, scale = std)\n",
    "    p4 = norm.cdf(4, loc=mu, scale = std)\n",
    "    p5 = norm.cdf(5, loc=mu, scale = std)\n",
    "    p6 = norm.cdf(6, loc=mu, scale=std)\n",
    "    p7 = norm.cdf(7, loc=mu, scale=std)\n",
    "    return(pd.Series({\"w0\":p0, \"w1\": p1-p0, \"w2\": p2-p1, \\\n",
    "                     \"w3\":p3-p2, \"w4\":p4-p3,'w5':p5-p4,'w6':p6-p5,'w7':1-p7}))"
   ]
  },
  {
   "cell_type": "code",
   "execution_count": 35,
   "metadata": {},
   "outputs": [],
   "source": [
    "df = pd.DataFrame()"
   ]
  },
  {
   "cell_type": "code",
   "execution_count": 38,
   "metadata": {},
   "outputs": [
    {
     "name": "stdout",
     "output_type": "stream",
     "text": [
      "3.2315965569786447e-12\n",
      "6.7912157008667475e-09\n",
      "3.593140181601463e-06\n",
      "0.00048754164784951625\n",
      "0.01755259918850321\n",
      "0.17965866916478546\n",
      "0.6078844978567616\n",
      "0.9284420505987429\n"
     ]
    }
   ],
   "source": [
    "\n",
    "for i in range(0,8):\n",
    "    print(norm.cdf(i,loc=5.77,scale=0.84))"
   ]
  },
  {
   "cell_type": "code",
   "execution_count": null,
   "metadata": {},
   "outputs": [],
   "source": []
  },
  {
   "cell_type": "code",
   "execution_count": 36,
   "metadata": {},
   "outputs": [
    {
     "name": "stdout",
     "output_type": "stream",
     "text": [
      "msubbaiah\n",
      "4.0066 1.1742445352227144\n",
      "dhaksubb\n",
      "4.33141 1.0900226114140779\n",
      "bhargavesh\n",
      "3.55886 1.1148936856396885\n",
      "rbachal\n",
      "3.33087 1.1025276408202231\n",
      "GADI\n",
      "2.55775 0.9461045865221379\n",
      "SAADMONIUSREX\n",
      "5.77928 0.8429174257884323\n",
      "mmj762\n",
      "4.00193 1.0062486772480277\n",
      "ssudhish10\n",
      "4.55397 1.1016348646862513\n",
      "cvalluru\n",
      "5.00213 1.3326076772746334\n",
      "arvindsivak\n",
      "2.8924 1.1119777897720222\n"
     ]
    }
   ],
   "source": [
    "for team in res_dct.keys():\n",
    "    tm_name = user_roster_map[team]\n",
    "    print(tm_name)\n",
    "    df[tm_name] =prop_of_reality(team,res_dct)"
   ]
  },
  {
   "cell_type": "code",
   "execution_count": 25,
   "metadata": {},
   "outputs": [
    {
     "data": {
      "text/html": [
       "<div>\n",
       "<style scoped>\n",
       "    .dataframe tbody tr th:only-of-type {\n",
       "        vertical-align: middle;\n",
       "    }\n",
       "\n",
       "    .dataframe tbody tr th {\n",
       "        vertical-align: top;\n",
       "    }\n",
       "\n",
       "    .dataframe thead th {\n",
       "        text-align: right;\n",
       "    }\n",
       "</style>\n",
       "<table border=\"1\" class=\"dataframe\">\n",
       "  <thead>\n",
       "    <tr style=\"text-align: right;\">\n",
       "      <th></th>\n",
       "      <th>msubbaiah</th>\n",
       "      <th>dhaksubb</th>\n",
       "      <th>bhargavesh</th>\n",
       "      <th>rbachal</th>\n",
       "      <th>GADI</th>\n",
       "      <th>SAADMONIUSREX</th>\n",
       "      <th>mmj762</th>\n",
       "      <th>ssudhish10</th>\n",
       "      <th>cvalluru</th>\n",
       "      <th>arvindsivak</th>\n",
       "    </tr>\n",
       "  </thead>\n",
       "  <tbody>\n",
       "    <tr>\n",
       "      <th>0-7</th>\n",
       "      <td>0.000</td>\n",
       "      <td>0.000</td>\n",
       "      <td>0.001</td>\n",
       "      <td>0.001</td>\n",
       "      <td>0.003</td>\n",
       "      <td>0.000</td>\n",
       "      <td>0.000</td>\n",
       "      <td>0.000</td>\n",
       "      <td>0.000</td>\n",
       "      <td>0.005</td>\n",
       "    </tr>\n",
       "    <tr>\n",
       "      <th>1-6</th>\n",
       "      <td>0.005</td>\n",
       "      <td>0.001</td>\n",
       "      <td>0.010</td>\n",
       "      <td>0.016</td>\n",
       "      <td>0.047</td>\n",
       "      <td>0.000</td>\n",
       "      <td>0.001</td>\n",
       "      <td>0.001</td>\n",
       "      <td>0.001</td>\n",
       "      <td>0.040</td>\n",
       "    </tr>\n",
       "    <tr>\n",
       "      <th>2-5</th>\n",
       "      <td>0.039</td>\n",
       "      <td>0.015</td>\n",
       "      <td>0.071</td>\n",
       "      <td>0.096</td>\n",
       "      <td>0.229</td>\n",
       "      <td>0.000</td>\n",
       "      <td>0.022</td>\n",
       "      <td>0.009</td>\n",
       "      <td>0.011</td>\n",
       "      <td>0.167</td>\n",
       "    </tr>\n",
       "    <tr>\n",
       "      <th>3-4</th>\n",
       "      <td>0.152</td>\n",
       "      <td>0.094</td>\n",
       "      <td>0.229</td>\n",
       "      <td>0.268</td>\n",
       "      <td>0.403</td>\n",
       "      <td>0.000</td>\n",
       "      <td>0.137</td>\n",
       "      <td>0.068</td>\n",
       "      <td>0.054</td>\n",
       "      <td>0.328</td>\n",
       "    </tr>\n",
       "    <tr>\n",
       "      <th>4-3</th>\n",
       "      <td>0.303</td>\n",
       "      <td>0.269</td>\n",
       "      <td>0.347</td>\n",
       "      <td>0.347</td>\n",
       "      <td>0.255</td>\n",
       "      <td>0.017</td>\n",
       "      <td>0.339</td>\n",
       "      <td>0.227</td>\n",
       "      <td>0.159</td>\n",
       "      <td>0.302</td>\n",
       "    </tr>\n",
       "    <tr>\n",
       "      <th>5-2</th>\n",
       "      <td>0.303</td>\n",
       "      <td>0.350</td>\n",
       "      <td>0.247</td>\n",
       "      <td>0.207</td>\n",
       "      <td>0.058</td>\n",
       "      <td>0.160</td>\n",
       "      <td>0.339</td>\n",
       "      <td>0.351</td>\n",
       "      <td>0.274</td>\n",
       "      <td>0.130</td>\n",
       "    </tr>\n",
       "    <tr>\n",
       "      <th>6-1</th>\n",
       "      <td>0.153</td>\n",
       "      <td>0.207</td>\n",
       "      <td>0.082</td>\n",
       "      <td>0.057</td>\n",
       "      <td>0.005</td>\n",
       "      <td>0.425</td>\n",
       "      <td>0.137</td>\n",
       "      <td>0.250</td>\n",
       "      <td>0.274</td>\n",
       "      <td>0.026</td>\n",
       "    </tr>\n",
       "    <tr>\n",
       "      <th>7-0</th>\n",
       "      <td>0.005</td>\n",
       "      <td>0.007</td>\n",
       "      <td>0.001</td>\n",
       "      <td>0.000</td>\n",
       "      <td>0.000</td>\n",
       "      <td>0.074</td>\n",
       "      <td>0.001</td>\n",
       "      <td>0.013</td>\n",
       "      <td>0.066</td>\n",
       "      <td>0.000</td>\n",
       "    </tr>\n",
       "  </tbody>\n",
       "</table>\n",
       "</div>"
      ],
      "text/plain": [
       "     msubbaiah  dhaksubb  bhargavesh  rbachal  GADI  SAADMONIUSREX  mmj762  \\\n",
       "0-7      0.000     0.000       0.001    0.001 0.003          0.000   0.000   \n",
       "1-6      0.005     0.001       0.010    0.016 0.047          0.000   0.001   \n",
       "2-5      0.039     0.015       0.071    0.096 0.229          0.000   0.022   \n",
       "3-4      0.152     0.094       0.229    0.268 0.403          0.000   0.137   \n",
       "4-3      0.303     0.269       0.347    0.347 0.255          0.017   0.339   \n",
       "5-2      0.303     0.350       0.247    0.207 0.058          0.160   0.339   \n",
       "6-1      0.153     0.207       0.082    0.057 0.005          0.425   0.137   \n",
       "7-0      0.005     0.007       0.001    0.000 0.000          0.074   0.001   \n",
       "\n",
       "     ssudhish10  cvalluru  arvindsivak  \n",
       "0-7       0.000     0.000        0.005  \n",
       "1-6       0.001     0.001        0.040  \n",
       "2-5       0.009     0.011        0.167  \n",
       "3-4       0.068     0.054        0.328  \n",
       "4-3       0.227     0.159        0.302  \n",
       "5-2       0.351     0.274        0.130  \n",
       "6-1       0.250     0.274        0.026  \n",
       "7-0       0.013     0.066        0.000  "
      ]
     },
     "execution_count": 25,
     "metadata": {},
     "output_type": "execute_result"
    }
   ],
   "source": [
    "pd.set_option('display.float_format', lambda x: '%.3f' % x)\n",
    "df.index =['0-7','1-6','2-5','3-4','4-3','5-2','6-1','7-0']\n",
    "df"
   ]
  },
  {
   "cell_type": "code",
   "execution_count": 28,
   "metadata": {},
   "outputs": [
    {
     "data": {
      "text/plain": [
       "msubbaiah       0.961\n",
       "dhaksubb        0.944\n",
       "bhargavesh      0.987\n",
       "rbachal         0.993\n",
       "GADI            1.000\n",
       "SAADMONIUSREX   0.677\n",
       "mmj762          0.978\n",
       "ssudhish10      0.918\n",
       "cvalluru        0.840\n",
       "arvindsivak     0.998\n",
       "dtype: float64"
      ]
     },
     "execution_count": 28,
     "metadata": {},
     "output_type": "execute_result"
    }
   ],
   "source": [
    "df.sum(axis=0)"
   ]
  },
  {
   "cell_type": "code",
   "execution_count": 28,
   "metadata": {},
   "outputs": [],
   "source": [
    "df.to_csv('Sleeper-2019-Luck-Proj.csv')"
   ]
  },
  {
   "cell_type": "code",
   "execution_count": null,
   "metadata": {},
   "outputs": [],
   "source": []
  }
 ],
 "metadata": {
  "kernelspec": {
   "display_name": "Python 3",
   "language": "python",
   "name": "python3"
  },
  "language_info": {
   "codemirror_mode": {
    "name": "ipython",
    "version": 3
   },
   "file_extension": ".py",
   "mimetype": "text/x-python",
   "name": "python",
   "nbconvert_exporter": "python",
   "pygments_lexer": "ipython3",
   "version": "3.6.5"
  }
 },
 "nbformat": 4,
 "nbformat_minor": 4
}
