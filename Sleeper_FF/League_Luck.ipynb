{
 "cells": [
  {
   "cell_type": "code",
   "execution_count": 12,
   "metadata": {},
   "outputs": [],
   "source": [
    "import random\n",
    "import numpy as np\n",
    "import pandas as pd"
   ]
  },
  {
   "cell_type": "code",
   "execution_count": 13,
   "metadata": {},
   "outputs": [],
   "source": [
    "from scipy.stats import norm"
   ]
  },
  {
   "cell_type": "code",
   "execution_count": 14,
   "metadata": {},
   "outputs": [],
   "source": [
    "ls = [1, 2, 3, 4, 5, 6, 7,8,9,10]\n",
    "n = len(ls)\n",
    "x = round(n/5)"
   ]
  },
  {
   "cell_type": "code",
   "execution_count": 15,
   "metadata": {},
   "outputs": [
    {
     "name": "stdout",
     "output_type": "stream",
     "text": [
      "[1, 2, 3, 4, 5, 82, 60, 8, 9, 10]\n"
     ]
    }
   ],
   "source": [
    "from random import randint\n",
    "for i in range(int(x)):\n",
    "    index = randint(0, n)\n",
    "    del ls[index]\n",
    "    ls.insert(index, randint(0, 100))\n",
    "print(ls)"
   ]
  },
  {
   "cell_type": "code",
   "execution_count": 6,
   "metadata": {},
   "outputs": [],
   "source": [
    "Gadi = [189.64,114.34,136.7,139.22,96.64,84.7,144.98,147.44]\n",
    "Mey = [114.34,151.08,137.16,124.16,99.22,109.78,135.72] \n",
    "Suds = [113.74,117.9,147.7,130.7,124.1,128.88,117.76]\n",
    "Must = [99.04,112.94,141.22,155.06,124.5,154.36,83.36]\n",
    "Bach = [125.38,115.76,95.82,123.36,158.84,153.1,121.18,124.76]\n",
    "Subh = [117.76,115.00,90.94,128.26,108.34,135.14,150.54]\n",
    "Dhak = [143.76,110.06,136.94,115.98,141.9,133.98,119.04]\n",
    "Bharg = [124.84,115.8,94.3,151.62,93.58,91.5,126.36]\n",
    "Saad = [81.42,151.94,84.68,119.28,109.82,155.88,101.92]\n",
    "Chai = [126.96,142.12,110.54,109.28,158.3,131.9,112.32]\n",
    "Freeman = {\"Subh\":Subh, \"Must\":Must, \"Dhak\":Dhak, \"Chai\":Chai, \"Bach\":Bach,\\\n",
    "        \"Saad\":Saad, \"Bharg\":Bharg, \"Gadi\":Gadi, \"Suds\":Suds, \"Mey\":Mey,}"
   ]
  },
  {
   "cell_type": "code",
   "execution_count": 7,
   "metadata": {},
   "outputs": [],
   "source": [
    "def sim(team, team_dict):\n",
    "    keys = list(team_dict.keys())\n",
    "    keys.remove(str(team))\n",
    "    opponents = np.random.choice(keys,size=11,replace = True)\n",
    "    wins = 0\n",
    "    for i, score in enumerate(team_dict[team]):\n",
    "        if team_dict[opponents[i]][i] < score:\n",
    "            wins += 1\n",
    "    return(wins)"
   ]
  },
  {
   "cell_type": "code",
   "execution_count": 8,
   "metadata": {},
   "outputs": [],
   "source": [
    "def prop_of_reality(team,team_dict):\n",
    "    results = {}\n",
    "    for i in range(10000):\n",
    "        results[i] = sim(team, team_dict)\n",
    "    SResults = pd.Series(results)\n",
    "    mu = SResults.mean()\n",
    "    std = SResults.std()\n",
    "    p0 = norm.cdf(0, loc=mu, scale = std)\n",
    "    p1 = norm.cdf(1, loc=mu, scale = std)\n",
    "    p2 = norm.cdf(2, loc=mu, scale = std)\n",
    "    p3 = norm.cdf(3, loc=mu, scale = std)\n",
    "    p4 = norm.cdf(4, loc=mu, scale = std)\n",
    "    p5 = norm.cdf(5, loc=mu, scale = std)\n",
    "    p6 = norm.cdf(6, loc=mu, scale=std)\n",
    "    p7 = norm.cdf(7, loc=mu, scale=std)\n",
    "    return(pd.Series({\"w0\":p0, \"w1\": p1-p0, \"w2\": p2-p1, \\\n",
    "                     \"w3\":p3-p2, \"w4\":p4-p3,'w5':p5-p4,'w6':p6-p5,'w7':1-p7}))"
   ]
  },
  {
   "cell_type": "code",
   "execution_count": 9,
   "metadata": {},
   "outputs": [],
   "source": [
    "df = pd.DataFrame()\n"
   ]
  },
  {
   "cell_type": "code",
   "execution_count": 10,
   "metadata": {},
   "outputs": [],
   "source": [
    "for team in Freeman.keys():\n",
    "    df[team] = prop_of_reality(str(team),Freeman)"
   ]
  },
  {
   "cell_type": "code",
   "execution_count": 12,
   "metadata": {},
   "outputs": [
    {
     "data": {
      "text/html": [
       "<div>\n",
       "<style scoped>\n",
       "    .dataframe tbody tr th:only-of-type {\n",
       "        vertical-align: middle;\n",
       "    }\n",
       "\n",
       "    .dataframe tbody tr th {\n",
       "        vertical-align: top;\n",
       "    }\n",
       "\n",
       "    .dataframe thead th {\n",
       "        text-align: right;\n",
       "    }\n",
       "</style>\n",
       "<table border=\"1\" class=\"dataframe\">\n",
       "  <thead>\n",
       "    <tr style=\"text-align: right;\">\n",
       "      <th></th>\n",
       "      <th>Subh</th>\n",
       "      <th>Must</th>\n",
       "      <th>Dhak</th>\n",
       "      <th>Chai</th>\n",
       "      <th>Bach</th>\n",
       "      <th>Saad</th>\n",
       "      <th>Bharg</th>\n",
       "      <th>Gadi</th>\n",
       "      <th>Suds</th>\n",
       "      <th>Mey</th>\n",
       "    </tr>\n",
       "  </thead>\n",
       "  <tbody>\n",
       "    <tr>\n",
       "      <th>0-7</th>\n",
       "      <td>0.001</td>\n",
       "      <td>0.000</td>\n",
       "      <td>0.000</td>\n",
       "      <td>0.000</td>\n",
       "      <td>0.000</td>\n",
       "      <td>0.000</td>\n",
       "      <td>0.002</td>\n",
       "      <td>0.000</td>\n",
       "      <td>0.000</td>\n",
       "      <td>0.001</td>\n",
       "    </tr>\n",
       "    <tr>\n",
       "      <th>1-6</th>\n",
       "      <td>0.014</td>\n",
       "      <td>0.000</td>\n",
       "      <td>0.009</td>\n",
       "      <td>0.007</td>\n",
       "      <td>0.003</td>\n",
       "      <td>0.007</td>\n",
       "      <td>0.025</td>\n",
       "      <td>0.002</td>\n",
       "      <td>0.007</td>\n",
       "      <td>0.009</td>\n",
       "    </tr>\n",
       "    <tr>\n",
       "      <th>2-5</th>\n",
       "      <td>0.085</td>\n",
       "      <td>0.016</td>\n",
       "      <td>0.071</td>\n",
       "      <td>0.062</td>\n",
       "      <td>0.028</td>\n",
       "      <td>0.130</td>\n",
       "      <td>0.140</td>\n",
       "      <td>0.037</td>\n",
       "      <td>0.053</td>\n",
       "      <td>0.062</td>\n",
       "    </tr>\n",
       "    <tr>\n",
       "      <th>3-4</th>\n",
       "      <td>0.248</td>\n",
       "      <td>0.180</td>\n",
       "      <td>0.249</td>\n",
       "      <td>0.229</td>\n",
       "      <td>0.129</td>\n",
       "      <td>0.476</td>\n",
       "      <td>0.330</td>\n",
       "      <td>0.226</td>\n",
       "      <td>0.189</td>\n",
       "      <td>0.207</td>\n",
       "    </tr>\n",
       "    <tr>\n",
       "      <th>4-3</th>\n",
       "      <td>0.344</td>\n",
       "      <td>0.467</td>\n",
       "      <td>0.369</td>\n",
       "      <td>0.365</td>\n",
       "      <td>0.291</td>\n",
       "      <td>0.339</td>\n",
       "      <td>0.332</td>\n",
       "      <td>0.429</td>\n",
       "      <td>0.330</td>\n",
       "      <td>0.336</td>\n",
       "    </tr>\n",
       "    <tr>\n",
       "      <th>5-2</th>\n",
       "      <td>0.227</td>\n",
       "      <td>0.292</td>\n",
       "      <td>0.232</td>\n",
       "      <td>0.251</td>\n",
       "      <td>0.321</td>\n",
       "      <td>0.046</td>\n",
       "      <td>0.142</td>\n",
       "      <td>0.256</td>\n",
       "      <td>0.280</td>\n",
       "      <td>0.264</td>\n",
       "    </tr>\n",
       "    <tr>\n",
       "      <th>6-1</th>\n",
       "      <td>0.071</td>\n",
       "      <td>0.043</td>\n",
       "      <td>0.062</td>\n",
       "      <td>0.075</td>\n",
       "      <td>0.174</td>\n",
       "      <td>0.001</td>\n",
       "      <td>0.026</td>\n",
       "      <td>0.048</td>\n",
       "      <td>0.115</td>\n",
       "      <td>0.101</td>\n",
       "    </tr>\n",
       "    <tr>\n",
       "      <th>7-0</th>\n",
       "      <td>0.001</td>\n",
       "      <td>0.000</td>\n",
       "      <td>0.000</td>\n",
       "      <td>0.001</td>\n",
       "      <td>0.006</td>\n",
       "      <td>0.000</td>\n",
       "      <td>0.000</td>\n",
       "      <td>0.000</td>\n",
       "      <td>0.002</td>\n",
       "      <td>0.002</td>\n",
       "    </tr>\n",
       "  </tbody>\n",
       "</table>\n",
       "</div>"
      ],
      "text/plain": [
       "     Subh  Must  Dhak  Chai  Bach  Saad  Bharg  Gadi  Suds   Mey\n",
       "0-7 0.001 0.000 0.000 0.000 0.000 0.000  0.002 0.000 0.000 0.001\n",
       "1-6 0.014 0.000 0.009 0.007 0.003 0.007  0.025 0.002 0.007 0.009\n",
       "2-5 0.085 0.016 0.071 0.062 0.028 0.130  0.140 0.037 0.053 0.062\n",
       "3-4 0.248 0.180 0.249 0.229 0.129 0.476  0.330 0.226 0.189 0.207\n",
       "4-3 0.344 0.467 0.369 0.365 0.291 0.339  0.332 0.429 0.330 0.336\n",
       "5-2 0.227 0.292 0.232 0.251 0.321 0.046  0.142 0.256 0.280 0.264\n",
       "6-1 0.071 0.043 0.062 0.075 0.174 0.001  0.026 0.048 0.115 0.101\n",
       "7-0 0.001 0.000 0.000 0.001 0.006 0.000  0.000 0.000 0.002 0.002"
      ]
     },
     "execution_count": 12,
     "metadata": {},
     "output_type": "execute_result"
    }
   ],
   "source": [
    "pd.set_option('display.float_format', lambda x: '%.3f' % x)\n",
    "df.index =['0-7','1-6','2-5','3-4','4-3','5-2','6-1','7-0']\n",
    "df"
   ]
  },
  {
   "cell_type": "code",
   "execution_count": 13,
   "metadata": {},
   "outputs": [],
   "source": [
    "df.to_csv('Final-Projections.csv')"
   ]
  },
  {
   "cell_type": "code",
   "execution_count": null,
   "metadata": {},
   "outputs": [],
   "source": []
  }
 ],
 "metadata": {
  "kernelspec": {
   "display_name": "Python 3",
   "language": "python",
   "name": "python3"
  },
  "language_info": {
   "codemirror_mode": {
    "name": "ipython",
    "version": 3
   },
   "file_extension": ".py",
   "mimetype": "text/x-python",
   "name": "python",
   "nbconvert_exporter": "python",
   "pygments_lexer": "ipython3",
   "version": "3.6.5"
  }
 },
 "nbformat": 4,
 "nbformat_minor": 2
}
