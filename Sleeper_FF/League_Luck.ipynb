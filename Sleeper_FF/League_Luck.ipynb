{
 "cells": [
  {
   "cell_type": "code",
   "execution_count": 1,
   "metadata": {},
   "outputs": [],
   "source": [
    "import random\n",
    "import numpy as np\n",
    "import pandas as pd"
   ]
  },
  {
   "cell_type": "code",
   "execution_count": 2,
   "metadata": {},
   "outputs": [],
   "source": [
    "from scipy.stats import norm"
   ]
  },
  {
   "cell_type": "code",
   "execution_count": 3,
   "metadata": {},
   "outputs": [],
   "source": [
    "ls = [1, 2, 3, 4, 5, 6, 7,8,9,10]\n",
    "n = len(ls)\n",
    "x = round(n/5)"
   ]
  },
  {
   "cell_type": "code",
   "execution_count": 4,
   "metadata": {},
   "outputs": [
    {
     "name": "stdout",
     "output_type": "stream",
     "text": [
      "[1, 2, 3, 81, 5, 6, 7, 94, 9, 10]\n"
     ]
    }
   ],
   "source": [
    "from random import randint\n",
    "for i in range(int(x)):\n",
    "    index = randint(0, n)\n",
    "    del ls[index]\n",
    "    ls.insert(index, randint(0, 100))\n",
    "print(ls)"
   ]
  },
  {
   "cell_type": "code",
   "execution_count": 5,
   "metadata": {},
   "outputs": [],
   "source": [
    "Gadi = [189.64,114.34,136.7,139.22,96.64,84.7,144.98,147.44,121.36,141.56,148.42]\n",
    "Mey = [114.34,151.08,137.16,124.16,99.22,109.78,135.72,138.72,165,108.36,115.22] \n",
    "Suds = [113.74,117.9,147.7,130.7,124.1,128.88,117.76,123.16,83.32,126.84,127.42]\n",
    "Must = [99.04,112.94,141.22,155.06,124.5,154.36,83.36,145.68,131.10,130.4,87.94]\n",
    "Bach = [125.38,115.76,95.82,123.36,158.84,153.1,121.18,124.76,129.26,141.56,164.92]\n",
    "Subh = [117.76,115.00,90.94,128.26,108.34,135.14,150.54,116.46,132.46,119,108.78]\n",
    "Dhak = [143.76,110.06,136.94,115.98,141.9,133.98,119.04,142.80,91.38,144.26,122.10]\n",
    "Bharg = [124.84,115.8,94.3,151.62,93.58,91.5,126.36,156.46,133.58,93.62,126.38]\n",
    "Saad = [81.42,151.94,84.68,119.28,109.82,155.88,101.92,147.62,129.90,146.34,125.6]\n",
    "Chai = [126.96,142.12,110.54,109.28,158.3,131.9,112.32,63.44,148.44,131.10,129.62]\n",
    "Freeman = {\"Subh\":Subh, \"Must\":Must, \"Dhak\":Dhak, \"Chai\":Chai, \"Bach\":Bach,\\\n",
    "        \"Saad\":Saad, \"Bharg\":Bharg, \"Gadi\":Gadi, \"Suds\":Suds, \"Mey\":Mey,}"
   ]
  },
  {
   "cell_type": "code",
   "execution_count": 6,
   "metadata": {},
   "outputs": [],
   "source": [
    "def sim(team, team_dict):\n",
    "    keys = list(team_dict.keys())\n",
    "    keys.remove(str(team))\n",
    "    opponents = np.random.choice(keys,size=11,replace = True)\n",
    "    wins = 0\n",
    "    for i, score in enumerate(team_dict[team]):\n",
    "        if team_dict[opponents[i]][i] < score:\n",
    "            wins += 1\n",
    "    return(wins)"
   ]
  },
  {
   "cell_type": "code",
   "execution_count": 7,
   "metadata": {},
   "outputs": [],
   "source": [
    "def prop_of_reality(team,team_dict):\n",
    "    results = {}\n",
    "    for i in range(100000):\n",
    "        results[i] = sim(team, team_dict)\n",
    "    SResults = pd.Series(results)\n",
    "    mu = SResults.mean()\n",
    "    std = SResults.std()\n",
    "    p0 = norm.cdf(0, loc=mu, scale = std)\n",
    "    p1 = norm.cdf(1, loc=mu, scale = std)\n",
    "    p2 = norm.cdf(2, loc=mu, scale = std)\n",
    "    p3 = norm.cdf(3, loc=mu, scale = std)\n",
    "    p4 = norm.cdf(4, loc=mu, scale = std)\n",
    "    p5 = norm.cdf(5, loc=mu, scale = std)\n",
    "    p6 = norm.cdf(6, loc=mu, scale=std)\n",
    "    p7 = norm.cdf(7, loc=mu, scale=std)\n",
    "    p8 = norm.cdf(8, loc=mu, scale=std)\n",
    "    p9 = norm.cdf(9, loc=mu, scale=std)\n",
    "    p10 = norm.cdf(10, loc=mu, scale=std)\n",
    "    p11 = norm.cdf(11,loc=mu,scale=std)\n",
    "    return(pd.Series({\"w0\":p0, \"w1\": p1-p0, \"w2\": p2-p1, \\\n",
    "                     \"w3\":p3-p2, \"w4\":p4-p3,'w5':p5-p4,'w6':p6-p5,'w7':p7-p6,\n",
    "                     'w8':p8-p7,'w9':p9-p8,'w10':p10-p9,\n",
    "                     'w11':1-p11}))"
   ]
  },
  {
   "cell_type": "code",
   "execution_count": 8,
   "metadata": {},
   "outputs": [],
   "source": [
    "df = pd.DataFrame()"
   ]
  },
  {
   "cell_type": "code",
   "execution_count": 9,
   "metadata": {},
   "outputs": [],
   "source": [
    "for team in Freeman.keys():\n",
    "    df[team] = prop_of_reality(str(team),Freeman)"
   ]
  },
  {
   "cell_type": "code",
   "execution_count": 10,
   "metadata": {},
   "outputs": [
    {
     "data": {
      "text/html": [
       "<div>\n",
       "<style scoped>\n",
       "    .dataframe tbody tr th:only-of-type {\n",
       "        vertical-align: middle;\n",
       "    }\n",
       "\n",
       "    .dataframe tbody tr th {\n",
       "        vertical-align: top;\n",
       "    }\n",
       "\n",
       "    .dataframe thead th {\n",
       "        text-align: right;\n",
       "    }\n",
       "</style>\n",
       "<table border=\"1\" class=\"dataframe\">\n",
       "  <thead>\n",
       "    <tr style=\"text-align: right;\">\n",
       "      <th></th>\n",
       "      <th>Subh</th>\n",
       "      <th>Must</th>\n",
       "      <th>Dhak</th>\n",
       "      <th>Chai</th>\n",
       "      <th>Bach</th>\n",
       "      <th>Saad</th>\n",
       "      <th>Bharg</th>\n",
       "      <th>Gadi</th>\n",
       "      <th>Suds</th>\n",
       "      <th>Mey</th>\n",
       "    </tr>\n",
       "  </thead>\n",
       "  <tbody>\n",
       "    <tr>\n",
       "      <th>0-11</th>\n",
       "      <td>0.000</td>\n",
       "      <td>0.000</td>\n",
       "      <td>0.000</td>\n",
       "      <td>0.000</td>\n",
       "      <td>0.000</td>\n",
       "      <td>0.000</td>\n",
       "      <td>0.000</td>\n",
       "      <td>0.000</td>\n",
       "      <td>0.000</td>\n",
       "      <td>0.000</td>\n",
       "    </tr>\n",
       "    <tr>\n",
       "      <th>1-10</th>\n",
       "      <td>0.004</td>\n",
       "      <td>0.000</td>\n",
       "      <td>0.000</td>\n",
       "      <td>0.000</td>\n",
       "      <td>0.000</td>\n",
       "      <td>0.000</td>\n",
       "      <td>0.000</td>\n",
       "      <td>0.000</td>\n",
       "      <td>0.002</td>\n",
       "      <td>0.000</td>\n",
       "    </tr>\n",
       "    <tr>\n",
       "      <th>2-9</th>\n",
       "      <td>0.025</td>\n",
       "      <td>0.002</td>\n",
       "      <td>0.005</td>\n",
       "      <td>0.001</td>\n",
       "      <td>0.001</td>\n",
       "      <td>0.000</td>\n",
       "      <td>0.003</td>\n",
       "      <td>0.000</td>\n",
       "      <td>0.013</td>\n",
       "      <td>0.004</td>\n",
       "    </tr>\n",
       "    <tr>\n",
       "      <th>3-8</th>\n",
       "      <td>0.096</td>\n",
       "      <td>0.020</td>\n",
       "      <td>0.033</td>\n",
       "      <td>0.013</td>\n",
       "      <td>0.007</td>\n",
       "      <td>0.007</td>\n",
       "      <td>0.026</td>\n",
       "      <td>0.005</td>\n",
       "      <td>0.059</td>\n",
       "      <td>0.029</td>\n",
       "    </tr>\n",
       "    <tr>\n",
       "      <th>4-7</th>\n",
       "      <td>0.215</td>\n",
       "      <td>0.103</td>\n",
       "      <td>0.118</td>\n",
       "      <td>0.067</td>\n",
       "      <td>0.035</td>\n",
       "      <td>0.062</td>\n",
       "      <td>0.110</td>\n",
       "      <td>0.036</td>\n",
       "      <td>0.161</td>\n",
       "      <td>0.106</td>\n",
       "    </tr>\n",
       "    <tr>\n",
       "      <th>5-6</th>\n",
       "      <td>0.287</td>\n",
       "      <td>0.262</td>\n",
       "      <td>0.244</td>\n",
       "      <td>0.189</td>\n",
       "      <td>0.112</td>\n",
       "      <td>0.230</td>\n",
       "      <td>0.254</td>\n",
       "      <td>0.139</td>\n",
       "      <td>0.265</td>\n",
       "      <td>0.231</td>\n",
       "    </tr>\n",
       "    <tr>\n",
       "      <th>6-5</th>\n",
       "      <td>0.228</td>\n",
       "      <td>0.331</td>\n",
       "      <td>0.293</td>\n",
       "      <td>0.298</td>\n",
       "      <td>0.223</td>\n",
       "      <td>0.365</td>\n",
       "      <td>0.313</td>\n",
       "      <td>0.284</td>\n",
       "      <td>0.265</td>\n",
       "      <td>0.292</td>\n",
       "    </tr>\n",
       "    <tr>\n",
       "      <th>7-4</th>\n",
       "      <td>0.108</td>\n",
       "      <td>0.207</td>\n",
       "      <td>0.203</td>\n",
       "      <td>0.262</td>\n",
       "      <td>0.275</td>\n",
       "      <td>0.251</td>\n",
       "      <td>0.206</td>\n",
       "      <td>0.305</td>\n",
       "      <td>0.161</td>\n",
       "      <td>0.216</td>\n",
       "    </tr>\n",
       "    <tr>\n",
       "      <th>8-3</th>\n",
       "      <td>0.030</td>\n",
       "      <td>0.064</td>\n",
       "      <td>0.082</td>\n",
       "      <td>0.128</td>\n",
       "      <td>0.211</td>\n",
       "      <td>0.075</td>\n",
       "      <td>0.073</td>\n",
       "      <td>0.172</td>\n",
       "      <td>0.059</td>\n",
       "      <td>0.094</td>\n",
       "    </tr>\n",
       "    <tr>\n",
       "      <th>9-1</th>\n",
       "      <td>0.005</td>\n",
       "      <td>0.010</td>\n",
       "      <td>0.019</td>\n",
       "      <td>0.035</td>\n",
       "      <td>0.100</td>\n",
       "      <td>0.010</td>\n",
       "      <td>0.014</td>\n",
       "      <td>0.051</td>\n",
       "      <td>0.013</td>\n",
       "      <td>0.024</td>\n",
       "    </tr>\n",
       "    <tr>\n",
       "      <th>10-1</th>\n",
       "      <td>0.000</td>\n",
       "      <td>0.001</td>\n",
       "      <td>0.003</td>\n",
       "      <td>0.005</td>\n",
       "      <td>0.029</td>\n",
       "      <td>0.001</td>\n",
       "      <td>0.001</td>\n",
       "      <td>0.008</td>\n",
       "      <td>0.002</td>\n",
       "      <td>0.003</td>\n",
       "    </tr>\n",
       "    <tr>\n",
       "      <th>11-0</th>\n",
       "      <td>0.000</td>\n",
       "      <td>0.000</td>\n",
       "      <td>0.000</td>\n",
       "      <td>0.000</td>\n",
       "      <td>0.001</td>\n",
       "      <td>0.000</td>\n",
       "      <td>0.000</td>\n",
       "      <td>0.000</td>\n",
       "      <td>0.000</td>\n",
       "      <td>0.000</td>\n",
       "    </tr>\n",
       "  </tbody>\n",
       "</table>\n",
       "</div>"
      ],
      "text/plain": [
       "      Subh  Must  Dhak  Chai  Bach  Saad  Bharg  Gadi  Suds   Mey\n",
       "0-11 0.000 0.000 0.000 0.000 0.000 0.000  0.000 0.000 0.000 0.000\n",
       "1-10 0.004 0.000 0.000 0.000 0.000 0.000  0.000 0.000 0.002 0.000\n",
       "2-9  0.025 0.002 0.005 0.001 0.001 0.000  0.003 0.000 0.013 0.004\n",
       "3-8  0.096 0.020 0.033 0.013 0.007 0.007  0.026 0.005 0.059 0.029\n",
       "4-7  0.215 0.103 0.118 0.067 0.035 0.062  0.110 0.036 0.161 0.106\n",
       "5-6  0.287 0.262 0.244 0.189 0.112 0.230  0.254 0.139 0.265 0.231\n",
       "6-5  0.228 0.331 0.293 0.298 0.223 0.365  0.313 0.284 0.265 0.292\n",
       "7-4  0.108 0.207 0.203 0.262 0.275 0.251  0.206 0.305 0.161 0.216\n",
       "8-3  0.030 0.064 0.082 0.128 0.211 0.075  0.073 0.172 0.059 0.094\n",
       "9-1  0.005 0.010 0.019 0.035 0.100 0.010  0.014 0.051 0.013 0.024\n",
       "10-1 0.000 0.001 0.003 0.005 0.029 0.001  0.001 0.008 0.002 0.003\n",
       "11-0 0.000 0.000 0.000 0.000 0.001 0.000  0.000 0.000 0.000 0.000"
      ]
     },
     "execution_count": 10,
     "metadata": {},
     "output_type": "execute_result"
    }
   ],
   "source": [
    "pd.set_option('display.float_format', lambda x: '%.3f' % x)\n",
    "df.index =['0-11','1-10','2-9','3-8','4-7','5-6','6-5','7-4','8-3','9-1','10-1','11-0']\n",
    "df"
   ]
  },
  {
   "cell_type": "code",
   "execution_count": 11,
   "metadata": {},
   "outputs": [
    {
     "data": {
      "text/plain": [
       "Subh    1.000\n",
       "Must    1.000\n",
       "Dhak    1.000\n",
       "Chai    1.000\n",
       "Bach    0.995\n",
       "Saad    1.000\n",
       "Bharg   1.000\n",
       "Gadi    0.999\n",
       "Suds    1.000\n",
       "Mey     1.000\n",
       "dtype: float64"
      ]
     },
     "execution_count": 11,
     "metadata": {},
     "output_type": "execute_result"
    }
   ],
   "source": [
    "df.sum(axis=0)"
   ]
  },
  {
   "cell_type": "code",
   "execution_count": 28,
   "metadata": {},
   "outputs": [],
   "source": [
    "df.to_csv('Final-Projections.csv')"
   ]
  },
  {
   "cell_type": "code",
   "execution_count": null,
   "metadata": {},
   "outputs": [],
   "source": []
  }
 ],
 "metadata": {
  "kernelspec": {
   "display_name": "Python 3",
   "language": "python",
   "name": "python3"
  },
  "language_info": {
   "codemirror_mode": {
    "name": "ipython",
    "version": 3
   },
   "file_extension": ".py",
   "mimetype": "text/x-python",
   "name": "python",
   "nbconvert_exporter": "python",
   "pygments_lexer": "ipython3",
   "version": "3.6.5"
  }
 },
 "nbformat": 4,
 "nbformat_minor": 4
}
