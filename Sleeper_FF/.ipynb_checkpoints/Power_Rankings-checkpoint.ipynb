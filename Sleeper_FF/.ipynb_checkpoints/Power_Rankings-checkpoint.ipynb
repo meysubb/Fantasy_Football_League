{
 "cells": [
  {
   "cell_type": "code",
   "execution_count": 1,
   "metadata": {},
   "outputs": [],
   "source": [
    "import numpy as np\n",
    "import pandas as pd"
   ]
  },
  {
   "cell_type": "code",
   "execution_count": 2,
   "metadata": {},
   "outputs": [],
   "source": [
    "Gadi = [189.64,114.34,136.7,139.22,96.64,84.7,144.98,147.44,121.36,141.56]\n",
    "Mey = [114.34,151.08,137.16,124.16,99.22,109.78,135.72,138.72,165,108.36] \n",
    "Suds = [113.74,117.9,147.7,130.7,124.1,128.88,117.76,123.16,83.32,126.84]\n",
    "Must = [99.04,112.94,141.22,155.06,124.5,154.36,83.36,145.68,131.10,130.4]\n",
    "Bach = [125.38,115.76,95.82,123.36,158.84,153.1,121.18,124.76,129.26,141.56]\n",
    "Subh = [117.76,115.00,90.94,128.26,108.34,135.14,150.54,116.46,132.46,119]\n",
    "Dhak = [143.76,110.06,136.94,115.98,141.9,133.98,119.04,142.80,91.38,144.26]\n",
    "Bharg = [124.84,115.8,94.3,151.62,93.58,91.5,126.36,156.46,133.58,93.62]\n",
    "Saad = [81.42,151.94,84.68,119.28,109.82,155.88,101.92,147.62,129.90,146.34]\n",
    "Chai = [126.96,142.12,110.54,109.28,158.3,131.9,112.32,63.44,148.44,131.10]\n",
    "Freeman = {\"Subh\":Subh, \"Must\":Must, \"Dhak\":Dhak, \"Chai\":Chai, \"Bach\":Bach,\\\n",
    "        \"Saad\":Saad, \"Bharg\":Bharg, \"Gadi\":Gadi, \"Suds\":Suds, \"Mey\":Mey,}"
   ]
  },
  {
   "cell_type": "code",
   "execution_count": 3,
   "metadata": {},
   "outputs": [],
   "source": [
    "Gadi = [\"Suds\",\"Subh\",\"Chai\",\"Dhak\",\"Saad\",\"Must\",\"Bharg\",\"Bach\",\"Mey\",\"Suds\"]\n",
    "Mey = [\"Subh\",\"Chai\",\"Dhak\",\"Bach\",\"Bharg\",\"Suds\",\"Saad\",\"Must\",\"Gadi\",\"Subh\"]\n",
    "Suds = [\"Gadi\",\"Dhak\",\"Subh\",\"Saad\",\"Chai\",\"Mey\",\"Must\",\"Bharg\",\"Bach\",\"Gadi\"]\n",
    "Must = [\"Saad\",\"Bach\",\"Bharg\",\"Chai\",\"Dhak\",\"Gadi\",\"Suds\",\"Mey\",\"Subh\",\"Saad\"]\n",
    "Bach = [\"Bharg\",\"Must\",\"Saad\",\"Mey\",\"Subh\",\"Chai\",\"Dhak\",\"Gadi\",\"Suds\",\"Bharg\"]\n",
    "Subh = [\"Mey\",\"Gadi\",\"Suds\",\"Bharg\",\"Bach\",\"Saad\",\"Chai\",\"Dhak\",\"Must\",\"Mey\"]\n",
    "Dhak = [\"Chai\",\"Suds\",\"Mey\",\"Gadi\",\"Must\",\"Bharg\",\"Bach\",\"Subh\",\"Saad\",\"Chai\"]\n",
    "Bharg = [\"Bach\",\"Saad\",\"Must\",\"Subh\",\"Mey\",\"Dhak\",\"Gadi\",\"Suds\",\"Chai\",\"Bach\"]\n",
    "Saad = [\"Must\",\"Bharg\",\"Bach\",\"Suds\",\"Gadi\",\"Subh\",\"Mey\",\"Chai\",\"Dhak\",\"Must\"]\n",
    "Chai = [\"Dhak\",\"Mey\",\"Gadi\",\"Must\",\"Suds\",\"Bach\",\"Subh\",\"Saad\",\"Bharg\",\"Dhak\"]\n",
    "Freeman_sched = {\"Subh\":Subh, \"Must\":Must, \"Dhak\":Dhak, \"Chai\":Chai, \"Bach\":Bach,\\\n",
    "        \"Saad\":Saad, \"Bharg\":Bharg, \"Gadi\":Gadi, \"Suds\":Suds, \"Mey\":Mey,}"
   ]
  },
  {
   "cell_type": "code",
   "execution_count": 4,
   "metadata": {},
   "outputs": [
    {
     "name": "stdout",
     "output_type": "stream",
     "text": [
      "Subh 10\n",
      "Must 10\n",
      "Dhak 10\n",
      "Chai 10\n",
      "Bach 10\n",
      "Saad 10\n",
      "Bharg 10\n",
      "Gadi 10\n",
      "Suds 10\n",
      "Mey 10\n"
     ]
    }
   ],
   "source": [
    "for i in Freeman:\n",
    "    print(i,len(Freeman[i]))"
   ]
  },
  {
   "cell_type": "code",
   "execution_count": 6,
   "metadata": {},
   "outputs": [],
   "source": [
    "win_df = pd.DataFrame(np.zeros(shape=(10,10)))\n",
    "win_df.columns = Freeman.keys()\n",
    "win_df.index = Freeman.keys()\n",
    "win_mov = win_df.copy()\n",
    "for team in Freeman_sched:\n",
    "    ## loop through team\n",
    "    opponents = Freeman_sched[team]\n",
    "    ## loop through opponents for team \n",
    "    for week,opp in enumerate(opponents):\n",
    "        #print(team + \" vs. \" + opp + \" Week \" + str(week))\n",
    "        opp_score = Freeman[opp][week]\n",
    "        team_score = Freeman[team][week]\n",
    "        if team_score > opp_score:\n",
    "            win_df[team][opp] += 1\n",
    "            win_mov[team][opp] += team_score - opp_score "
   ]
  },
  {
   "cell_type": "code",
   "execution_count": 7,
   "metadata": {},
   "outputs": [
    {
     "data": {
      "text/html": [
       "<div>\n",
       "<style scoped>\n",
       "    .dataframe tbody tr th:only-of-type {\n",
       "        vertical-align: middle;\n",
       "    }\n",
       "\n",
       "    .dataframe tbody tr th {\n",
       "        vertical-align: top;\n",
       "    }\n",
       "\n",
       "    .dataframe thead th {\n",
       "        text-align: right;\n",
       "    }\n",
       "</style>\n",
       "<table border=\"1\" class=\"dataframe\">\n",
       "  <thead>\n",
       "    <tr style=\"text-align: right;\">\n",
       "      <th></th>\n",
       "      <th>Subh</th>\n",
       "      <th>Must</th>\n",
       "      <th>Dhak</th>\n",
       "      <th>Chai</th>\n",
       "      <th>Bach</th>\n",
       "      <th>Saad</th>\n",
       "      <th>Bharg</th>\n",
       "      <th>Gadi</th>\n",
       "      <th>Suds</th>\n",
       "      <th>Mey</th>\n",
       "    </tr>\n",
       "  </thead>\n",
       "  <tbody>\n",
       "    <tr>\n",
       "      <th>Subh</th>\n",
       "      <td>0.0</td>\n",
       "      <td>0.0</td>\n",
       "      <td>1.0</td>\n",
       "      <td>0.0</td>\n",
       "      <td>1.0</td>\n",
       "      <td>1.0</td>\n",
       "      <td>1.0</td>\n",
       "      <td>0.0</td>\n",
       "      <td>1.0</td>\n",
       "      <td>0.0</td>\n",
       "    </tr>\n",
       "    <tr>\n",
       "      <th>Must</th>\n",
       "      <td>1.0</td>\n",
       "      <td>0.0</td>\n",
       "      <td>1.0</td>\n",
       "      <td>0.0</td>\n",
       "      <td>1.0</td>\n",
       "      <td>1.0</td>\n",
       "      <td>0.0</td>\n",
       "      <td>0.0</td>\n",
       "      <td>1.0</td>\n",
       "      <td>0.0</td>\n",
       "    </tr>\n",
       "    <tr>\n",
       "      <th>Dhak</th>\n",
       "      <td>0.0</td>\n",
       "      <td>0.0</td>\n",
       "      <td>0.0</td>\n",
       "      <td>0.0</td>\n",
       "      <td>1.0</td>\n",
       "      <td>1.0</td>\n",
       "      <td>0.0</td>\n",
       "      <td>1.0</td>\n",
       "      <td>1.0</td>\n",
       "      <td>1.0</td>\n",
       "    </tr>\n",
       "    <tr>\n",
       "      <th>Chai</th>\n",
       "      <td>1.0</td>\n",
       "      <td>1.0</td>\n",
       "      <td>2.0</td>\n",
       "      <td>0.0</td>\n",
       "      <td>1.0</td>\n",
       "      <td>1.0</td>\n",
       "      <td>0.0</td>\n",
       "      <td>1.0</td>\n",
       "      <td>0.0</td>\n",
       "      <td>1.0</td>\n",
       "    </tr>\n",
       "    <tr>\n",
       "      <th>Bach</th>\n",
       "      <td>0.0</td>\n",
       "      <td>0.0</td>\n",
       "      <td>0.0</td>\n",
       "      <td>0.0</td>\n",
       "      <td>0.0</td>\n",
       "      <td>0.0</td>\n",
       "      <td>0.0</td>\n",
       "      <td>1.0</td>\n",
       "      <td>0.0</td>\n",
       "      <td>1.0</td>\n",
       "    </tr>\n",
       "    <tr>\n",
       "      <th>Saad</th>\n",
       "      <td>0.0</td>\n",
       "      <td>1.0</td>\n",
       "      <td>0.0</td>\n",
       "      <td>0.0</td>\n",
       "      <td>1.0</td>\n",
       "      <td>0.0</td>\n",
       "      <td>0.0</td>\n",
       "      <td>0.0</td>\n",
       "      <td>1.0</td>\n",
       "      <td>1.0</td>\n",
       "    </tr>\n",
       "    <tr>\n",
       "      <th>Bharg</th>\n",
       "      <td>0.0</td>\n",
       "      <td>1.0</td>\n",
       "      <td>1.0</td>\n",
       "      <td>1.0</td>\n",
       "      <td>2.0</td>\n",
       "      <td>1.0</td>\n",
       "      <td>0.0</td>\n",
       "      <td>1.0</td>\n",
       "      <td>0.0</td>\n",
       "      <td>1.0</td>\n",
       "    </tr>\n",
       "    <tr>\n",
       "      <th>Gadi</th>\n",
       "      <td>1.0</td>\n",
       "      <td>1.0</td>\n",
       "      <td>0.0</td>\n",
       "      <td>0.0</td>\n",
       "      <td>0.0</td>\n",
       "      <td>1.0</td>\n",
       "      <td>0.0</td>\n",
       "      <td>0.0</td>\n",
       "      <td>0.0</td>\n",
       "      <td>1.0</td>\n",
       "    </tr>\n",
       "    <tr>\n",
       "      <th>Suds</th>\n",
       "      <td>0.0</td>\n",
       "      <td>0.0</td>\n",
       "      <td>0.0</td>\n",
       "      <td>1.0</td>\n",
       "      <td>1.0</td>\n",
       "      <td>0.0</td>\n",
       "      <td>1.0</td>\n",
       "      <td>2.0</td>\n",
       "      <td>0.0</td>\n",
       "      <td>0.0</td>\n",
       "    </tr>\n",
       "    <tr>\n",
       "      <th>Mey</th>\n",
       "      <td>2.0</td>\n",
       "      <td>1.0</td>\n",
       "      <td>0.0</td>\n",
       "      <td>0.0</td>\n",
       "      <td>0.0</td>\n",
       "      <td>0.0</td>\n",
       "      <td>0.0</td>\n",
       "      <td>0.0</td>\n",
       "      <td>1.0</td>\n",
       "      <td>0.0</td>\n",
       "    </tr>\n",
       "  </tbody>\n",
       "</table>\n",
       "</div>"
      ],
      "text/plain": [
       "       Subh  Must  Dhak  Chai  Bach  Saad  Bharg  Gadi  Suds  Mey\n",
       "Subh    0.0   0.0   1.0   0.0   1.0   1.0    1.0   0.0   1.0  0.0\n",
       "Must    1.0   0.0   1.0   0.0   1.0   1.0    0.0   0.0   1.0  0.0\n",
       "Dhak    0.0   0.0   0.0   0.0   1.0   1.0    0.0   1.0   1.0  1.0\n",
       "Chai    1.0   1.0   2.0   0.0   1.0   1.0    0.0   1.0   0.0  1.0\n",
       "Bach    0.0   0.0   0.0   0.0   0.0   0.0    0.0   1.0   0.0  1.0\n",
       "Saad    0.0   1.0   0.0   0.0   1.0   0.0    0.0   0.0   1.0  1.0\n",
       "Bharg   0.0   1.0   1.0   1.0   2.0   1.0    0.0   1.0   0.0  1.0\n",
       "Gadi    1.0   1.0   0.0   0.0   0.0   1.0    0.0   0.0   0.0  1.0\n",
       "Suds    0.0   0.0   0.0   1.0   1.0   0.0    1.0   2.0   0.0  0.0\n",
       "Mey     2.0   1.0   0.0   0.0   0.0   0.0    0.0   0.0   1.0  0.0"
      ]
     },
     "execution_count": 7,
     "metadata": {},
     "output_type": "execute_result"
    }
   ],
   "source": [
    "win_df"
   ]
  },
  {
   "cell_type": "code",
   "execution_count": 8,
   "metadata": {},
   "outputs": [],
   "source": [
    "win_array = np.array(win_df.T)"
   ]
  },
  {
   "cell_type": "code",
   "execution_count": 9,
   "metadata": {},
   "outputs": [],
   "source": [
    "dominance_vec = two_step_dominance(win_array)"
   ]
  },
  {
   "cell_type": "code",
   "execution_count": 10,
   "metadata": {},
   "outputs": [
    {
     "name": "stdout",
     "output_type": "stream",
     "text": [
      "Subh\n",
      "30.0 112.99 -30.85000000000001\n",
      "Must\n",
      "27.0 127.06500000000001 28.755\n",
      "Dhak\n",
      "21.0 126.685 11.055\n",
      "Chai\n",
      "9.0 122.225 -51.34999999999999\n",
      "Bach\n",
      "40.0 115.08 39.684999999999995\n",
      "Saad\n",
      "31.0 109.33000000000001 33.68000000000002\n",
      "Bharg\n",
      "12.0 121.64 -39.119999999999976\n",
      "Gadi\n",
      "33.0 144.975 13.544999999999984\n",
      "Suds\n",
      "32.0 127.50999999999999 -18.635000000000005\n",
      "Mey\n",
      "35.0 131.685 13.235\n"
     ]
    }
   ],
   "source": [
    "power_pts = []  \n",
    "week = 4\n",
    "for i,team in zip(dominance_vec,Freeman_sched.keys()):\n",
    "    print(team)\n",
    "    avg_score = sum(Freeman[team][:week])/week\n",
    "    win_margin = win_mov[team].tolist()\n",
    "    loss_margin = win_mov.loc[team].tolist()\n",
    "    loss_margin = [-val for val in loss_margin]\n",
    "    avg_mov = (sum(loss_margin) + sum(win_margin))/week\n",
    "    print(i,avg_score,avg_mov)\n",
    "    power = '{0:.2f}'.format((int(i)*0.8) + (int(avg_score)*0.15) +\n",
    "                                 (int(avg_mov)*0.05))\n",
    "    power_pts.append(power)\n",
    "    power_tup = [(i, j) for (i, j) in zip(power_pts, Freeman_sched.keys())]"
   ]
  },
  {
   "cell_type": "code",
   "execution_count": 11,
   "metadata": {},
   "outputs": [
    {
     "data": {
      "text/plain": [
       "[('51.20', 'Bach'),\n",
       " ('48.65', 'Gadi'),\n",
       " ('48.30', 'Mey'),\n",
       " ('43.75', 'Suds'),\n",
       " ('42.80', 'Saad'),\n",
       " ('42.05', 'Must'),\n",
       " ('39.30', 'Subh'),\n",
       " ('36.25', 'Dhak'),\n",
       " ('25.80', 'Bharg'),\n",
       " ('22.95', 'Chai')]"
      ]
     },
     "execution_count": 11,
     "metadata": {},
     "output_type": "execute_result"
    }
   ],
   "source": [
    "sorted(power_tup, key=lambda x: x[0],reverse=True)"
   ]
  },
  {
   "cell_type": "code",
   "execution_count": null,
   "metadata": {},
   "outputs": [],
   "source": []
  },
  {
   "cell_type": "code",
   "execution_count": null,
   "metadata": {},
   "outputs": [],
   "source": []
  }
 ],
 "metadata": {
  "kernelspec": {
   "display_name": "Python 3",
   "language": "python",
   "name": "python3"
  },
  "language_info": {
   "codemirror_mode": {
    "name": "ipython",
    "version": 3
   },
   "file_extension": ".py",
   "mimetype": "text/x-python",
   "name": "python",
   "nbconvert_exporter": "python",
   "pygments_lexer": "ipython3",
   "version": "3.6.5"
  }
 },
 "nbformat": 4,
 "nbformat_minor": 2
}
