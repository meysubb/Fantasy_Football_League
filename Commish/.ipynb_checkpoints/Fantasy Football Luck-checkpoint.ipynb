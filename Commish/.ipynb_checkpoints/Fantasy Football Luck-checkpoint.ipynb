{
 "cells": [
  {
   "cell_type": "code",
   "execution_count": 1,
   "metadata": {
    "collapsed": true
   },
   "outputs": [],
   "source": [
    "import random\n",
    "import numpy as np\n",
    "import pandas as pd\n",
    "from scipy.stats import norm"
   ]
  },
  {
   "cell_type": "code",
   "execution_count": 10,
   "metadata": {},
   "outputs": [],
   "source": [
    "ls = [1, 2, 3, 4, 5, 6, 7, 8, 9, 10, 11]\n",
    "n = len(ls)\n",
    "x = round(n/5)"
   ]
  },
  {
   "cell_type": "code",
   "execution_count": 18,
   "metadata": {},
   "outputs": [
    {
     "name": "stdout",
     "output_type": "stream",
     "text": [
      "[2, 3, 4, 91, 54, 7, 8, 9, 10, 11]\n"
     ]
    }
   ],
   "source": [
    "from random import randint\n",
    "for i in range(int(x)):\n",
    "    index = randint(0, n)\n",
    "    del ls[index]\n",
    "    ls.insert(index, randint(0, 100))\n",
    "\n",
    "print(ls)"
   ]
  },
  {
   "cell_type": "code",
   "execution_count": null,
   "metadata": {
    "collapsed": true
   },
   "outputs": [],
   "source": [
    "#### FreemanLeague\n",
    "Jens = [75.7,114,135.6,91.4,85.8,101.6,116.6,65.7,98.9,91.9,73.5]\n",
    "Must = [119.7, 84.2, 92.8, 105.9,100.2,113.6,80.8,80,103.6,73.3,104.1]\n",
    "Dhak = [97.8,97,87.1,88.6,100.2,79.3,79.8,130.3,94.2,103.4,106.7]\n",
    "Chai = [88.4,101.8,84.3,91,98.7,109.9,85,98,80.7,103.1,110.1]\n",
    "Bach = [60.4,95.4,90.9,116.3,85.3,114.4,133.9,107.7,109.5,91.6,87.9]\n",
    "Reza = [83.4, 117.4, 69.1, 78.1,122.2,107,110.2,156.5,78.7,105.9,135.6]\n",
    "Bharg = [59.6,70.3,112.7,89.6,95.3,60.2,83.4,79.4,69.4,94.3,102.5]\n",
    "Gadi = [73.6,87.2,76.4,79.5,74.3,57.2,77.7,51.6,61.5,78,111.3]\n",
    "Suds = [72.5,61.7,92.5,84.7,91.1,121.5,70.6,90.2,70.5,77.1,77.1]\n",
    "Mey = [59.8,62.2,49.4,57.3,90.8,106.1,104.4,70,112.3,86,91.7]"
   ]
  },
  {
   "cell_type": "code",
   "execution_count": 3,
   "metadata": {},
   "outputs": [
    {
     "data": {
      "text/plain": [
       "11"
      ]
     },
     "execution_count": 3,
     "metadata": {},
     "output_type": "execute_result"
    }
   ],
   "source": [
    "len(Mey)"
   ]
  },
  {
   "cell_type": "code",
   "execution_count": 4,
   "metadata": {
    "collapsed": true
   },
   "outputs": [],
   "source": [
    "Freeman = {\"Jens\":Jens, \"Must\":Must, \"Dhak\":Dhak, \"Chai\":Chai, \"Bach\":Bach,\\\n",
    "        \"Reza\":Reza, \"Bharg\":Bharg, \"Gadi\":Gadi, \"Suds\":Suds, \"Mey\":Mey,}"
   ]
  },
  {
   "cell_type": "code",
   "execution_count": 5,
   "metadata": {
    "collapsed": true
   },
   "outputs": [],
   "source": [
    "#### College Station League\n",
    "Quint = [69,117,91,70,85,85,85]\n",
    "Mey = [65,53,61,99,103,98,80]\n",
    "Barnes = [112,92,104,100,70,80,90]\n",
    "Logan = [64,103,66,95,86,104,87]\n",
    "Jason = [73,46,84,80,82,56,48]\n",
    "Praveen = [100,108,120,89,72,91,105]\n",
    "Nathan = [63,83,58,123,101,85,109]\n",
    "Diego = [61,101,77,98,103,72,120]\n",
    "Nolan = [47,57,72,62,115,87,80]\n",
    "David = [46,90,49,63,66,71,48]"
   ]
  },
  {
   "cell_type": "code",
   "execution_count": 6,
   "metadata": {
    "collapsed": true
   },
   "outputs": [],
   "source": [
    "Cstat = {'Quint':Quint,\"Mey\":Mey,\"Barnes\":Barnes,\"Logan\":Logan,\n",
    "         \"Jason\":Jason,\"Praveen\":Praveen,\"Nathan\":Nathan,\"Diego\":Diego,\n",
    "         \"Nolan\":Nolan,\"David\":David}"
   ]
  },
  {
   "cell_type": "code",
   "execution_count": 7,
   "metadata": {
    "collapsed": true
   },
   "outputs": [],
   "source": [
    "def sim(team, team_dict):\n",
    "    keys = list(team_dict.keys())\n",
    "    keys.remove(str(team))\n",
    "    opponents = np.random.choice(keys,size=11,replace = True)\n",
    "    wins = 0\n",
    "    for i, score in enumerate(team_dict[team]):\n",
    "        if team_dict[opponents[i]][i] < score:\n",
    "            wins += 1\n",
    "    return(wins)"
   ]
  },
  {
   "cell_type": "code",
   "execution_count": 18,
   "metadata": {
    "collapsed": true
   },
   "outputs": [],
   "source": [
    "def prop_of_reality(team,team_dict):\n",
    "    results = {}\n",
    "    for i in range(10000):\n",
    "        results[i] = sim(team, team_dict)\n",
    "    SResults = pd.Series(results)\n",
    "    mu = SResults.mean()\n",
    "    std = SResults.std()\n",
    "    p0 = norm.cdf(0, loc=mu, scale = std)\n",
    "    p1 = norm.cdf(1, loc=mu, scale = std)\n",
    "    p2 = norm.cdf(2, loc=mu, scale = std)\n",
    "    p3 = norm.cdf(3, loc=mu, scale = std)\n",
    "    p4 = norm.cdf(4, loc=mu, scale = std)\n",
    "    p5 = norm.cdf(5, loc=mu, scale = std)\n",
    "    p6 = norm.cdf(6, loc=mu, scale=std)\n",
    "    p7 = norm.cdf(7, loc=mu, scale=std)\n",
    "    p8 = norm.cdf(8, loc=mu, scale=std)\n",
    "    p9 = norm.cdf(9, loc=mu, scale=std)\n",
    "    p10 = norm.cdf(10, loc=mu, scale=std)\n",
    "    return(pd.Series({\"w0\":p0, \"w1\": p1-p0, \"w2\": p2-p1, \\\n",
    "                     \"w3\":p3-p2, \"w4\":p4-p3,'w5':p5-p4,'w6':p6-p5,'w7':p7-p6,\n",
    "                     'w8':p8-p7,'w9':p9-p8,'w10':p10-p9,'w11':1-p10}))"
   ]
  },
  {
   "cell_type": "code",
   "execution_count": 19,
   "metadata": {
    "collapsed": true
   },
   "outputs": [],
   "source": [
    "df = pd.DataFrame()"
   ]
  },
  {
   "cell_type": "code",
   "execution_count": 20,
   "metadata": {
    "collapsed": true
   },
   "outputs": [],
   "source": [
    "for team in Freeman.keys():\n",
    "    df[team] = prop_of_reality(str(team),Freeman)"
   ]
  },
  {
   "cell_type": "code",
   "execution_count": 22,
   "metadata": {},
   "outputs": [
    {
     "data": {
      "text/html": [
       "<div>\n",
       "<style>\n",
       "    .dataframe thead tr:only-child th {\n",
       "        text-align: right;\n",
       "    }\n",
       "\n",
       "    .dataframe thead th {\n",
       "        text-align: left;\n",
       "    }\n",
       "\n",
       "    .dataframe tbody tr th {\n",
       "        vertical-align: top;\n",
       "    }\n",
       "</style>\n",
       "<table border=\"1\" class=\"dataframe\">\n",
       "  <thead>\n",
       "    <tr style=\"text-align: right;\">\n",
       "      <th></th>\n",
       "      <th>Bharg</th>\n",
       "      <th>Gadi</th>\n",
       "      <th>Suds</th>\n",
       "      <th>Dhak</th>\n",
       "      <th>Mey</th>\n",
       "      <th>Jens</th>\n",
       "      <th>Chai</th>\n",
       "      <th>Reza</th>\n",
       "      <th>Bach</th>\n",
       "      <th>Must</th>\n",
       "    </tr>\n",
       "  </thead>\n",
       "  <tbody>\n",
       "    <tr>\n",
       "      <th>0-11</th>\n",
       "      <td>0.001</td>\n",
       "      <td>0.010</td>\n",
       "      <td>0.001</td>\n",
       "      <td>0.000</td>\n",
       "      <td>0.002</td>\n",
       "      <td>0.000</td>\n",
       "      <td>0.000</td>\n",
       "      <td>0.000</td>\n",
       "      <td>0.000</td>\n",
       "      <td>0.000</td>\n",
       "    </tr>\n",
       "    <tr>\n",
       "      <th>1-10</th>\n",
       "      <td>0.007</td>\n",
       "      <td>0.068</td>\n",
       "      <td>0.011</td>\n",
       "      <td>0.000</td>\n",
       "      <td>0.017</td>\n",
       "      <td>0.000</td>\n",
       "      <td>0.000</td>\n",
       "      <td>0.000</td>\n",
       "      <td>0.000</td>\n",
       "      <td>0.000</td>\n",
       "    </tr>\n",
       "    <tr>\n",
       "      <th>2-9</th>\n",
       "      <td>0.000</td>\n",
       "      <td>0.000</td>\n",
       "      <td>0.000</td>\n",
       "      <td>0.041</td>\n",
       "      <td>0.000</td>\n",
       "      <td>0.008</td>\n",
       "      <td>0.077</td>\n",
       "      <td>0.071</td>\n",
       "      <td>0.027</td>\n",
       "      <td>0.032</td>\n",
       "    </tr>\n",
       "    <tr>\n",
       "      <th>3-8</th>\n",
       "      <td>0.000</td>\n",
       "      <td>0.000</td>\n",
       "      <td>0.000</td>\n",
       "      <td>0.010</td>\n",
       "      <td>0.000</td>\n",
       "      <td>0.001</td>\n",
       "      <td>0.028</td>\n",
       "      <td>0.009</td>\n",
       "      <td>0.004</td>\n",
       "      <td>0.006</td>\n",
       "    </tr>\n",
       "    <tr>\n",
       "      <th>4-7</th>\n",
       "      <td>0.037</td>\n",
       "      <td>0.227</td>\n",
       "      <td>0.063</td>\n",
       "      <td>0.001</td>\n",
       "      <td>0.085</td>\n",
       "      <td>0.001</td>\n",
       "      <td>0.000</td>\n",
       "      <td>0.000</td>\n",
       "      <td>0.000</td>\n",
       "      <td>0.000</td>\n",
       "    </tr>\n",
       "    <tr>\n",
       "      <th>5-6</th>\n",
       "      <td>0.121</td>\n",
       "      <td>0.350</td>\n",
       "      <td>0.191</td>\n",
       "      <td>0.005</td>\n",
       "      <td>0.224</td>\n",
       "      <td>0.008</td>\n",
       "      <td>0.003</td>\n",
       "      <td>0.000</td>\n",
       "      <td>0.002</td>\n",
       "      <td>0.003</td>\n",
       "    </tr>\n",
       "    <tr>\n",
       "      <th>6-5</th>\n",
       "      <td>0.238</td>\n",
       "      <td>0.249</td>\n",
       "      <td>0.310</td>\n",
       "      <td>0.026</td>\n",
       "      <td>0.316</td>\n",
       "      <td>0.048</td>\n",
       "      <td>0.018</td>\n",
       "      <td>0.000</td>\n",
       "      <td>0.015</td>\n",
       "      <td>0.019</td>\n",
       "    </tr>\n",
       "    <tr>\n",
       "      <th>7-4</th>\n",
       "      <td>0.282</td>\n",
       "      <td>0.082</td>\n",
       "      <td>0.268</td>\n",
       "      <td>0.091</td>\n",
       "      <td>0.238</td>\n",
       "      <td>0.158</td>\n",
       "      <td>0.064</td>\n",
       "      <td>0.006</td>\n",
       "      <td>0.075</td>\n",
       "      <td>0.083</td>\n",
       "    </tr>\n",
       "    <tr>\n",
       "      <th>8-3</th>\n",
       "      <td>0.201</td>\n",
       "      <td>0.012</td>\n",
       "      <td>0.122</td>\n",
       "      <td>0.199</td>\n",
       "      <td>0.096</td>\n",
       "      <td>0.286</td>\n",
       "      <td>0.152</td>\n",
       "      <td>0.059</td>\n",
       "      <td>0.206</td>\n",
       "      <td>0.205</td>\n",
       "    </tr>\n",
       "    <tr>\n",
       "      <th>9-2</th>\n",
       "      <td>0.087</td>\n",
       "      <td>0.001</td>\n",
       "      <td>0.030</td>\n",
       "      <td>0.272</td>\n",
       "      <td>0.020</td>\n",
       "      <td>0.285</td>\n",
       "      <td>0.239</td>\n",
       "      <td>0.230</td>\n",
       "      <td>0.308</td>\n",
       "      <td>0.293</td>\n",
       "    </tr>\n",
       "    <tr>\n",
       "      <th>10-1</th>\n",
       "      <td>0.023</td>\n",
       "      <td>0.000</td>\n",
       "      <td>0.004</td>\n",
       "      <td>0.232</td>\n",
       "      <td>0.002</td>\n",
       "      <td>0.157</td>\n",
       "      <td>0.249</td>\n",
       "      <td>0.373</td>\n",
       "      <td>0.252</td>\n",
       "      <td>0.243</td>\n",
       "    </tr>\n",
       "    <tr>\n",
       "      <th>11-0</th>\n",
       "      <td>0.004</td>\n",
       "      <td>0.000</td>\n",
       "      <td>0.000</td>\n",
       "      <td>0.124</td>\n",
       "      <td>0.000</td>\n",
       "      <td>0.048</td>\n",
       "      <td>0.170</td>\n",
       "      <td>0.252</td>\n",
       "      <td>0.112</td>\n",
       "      <td>0.116</td>\n",
       "    </tr>\n",
       "  </tbody>\n",
       "</table>\n",
       "</div>"
      ],
      "text/plain": [
       "      Bharg  Gadi  Suds  Dhak   Mey  Jens  Chai  Reza  Bach  Must\n",
       "0-11  0.001 0.010 0.001 0.000 0.002 0.000 0.000 0.000 0.000 0.000\n",
       "1-10  0.007 0.068 0.011 0.000 0.017 0.000 0.000 0.000 0.000 0.000\n",
       "2-9   0.000 0.000 0.000 0.041 0.000 0.008 0.077 0.071 0.027 0.032\n",
       "3-8   0.000 0.000 0.000 0.010 0.000 0.001 0.028 0.009 0.004 0.006\n",
       "4-7   0.037 0.227 0.063 0.001 0.085 0.001 0.000 0.000 0.000 0.000\n",
       "5-6   0.121 0.350 0.191 0.005 0.224 0.008 0.003 0.000 0.002 0.003\n",
       "6-5   0.238 0.249 0.310 0.026 0.316 0.048 0.018 0.000 0.015 0.019\n",
       "7-4   0.282 0.082 0.268 0.091 0.238 0.158 0.064 0.006 0.075 0.083\n",
       "8-3   0.201 0.012 0.122 0.199 0.096 0.286 0.152 0.059 0.206 0.205\n",
       "9-2   0.087 0.001 0.030 0.272 0.020 0.285 0.239 0.230 0.308 0.293\n",
       "10-1  0.023 0.000 0.004 0.232 0.002 0.157 0.249 0.373 0.252 0.243\n",
       "11-0  0.004 0.000 0.000 0.124 0.000 0.048 0.170 0.252 0.112 0.116"
      ]
     },
     "execution_count": 22,
     "metadata": {},
     "output_type": "execute_result"
    }
   ],
   "source": [
    "pd.set_option('display.float_format', lambda x: '%.3f' % x)\n",
    "df.index =['0-11','1-10','2-9','3-8','4-7','5-6','6-5','7-4','8-3','9-2','10-1','11-0']\n",
    "df"
   ]
  },
  {
   "cell_type": "code",
   "execution_count": 26,
   "metadata": {
    "collapsed": true
   },
   "outputs": [],
   "source": [
    "df.to_csv('Final-Projections.csv')"
   ]
  },
  {
   "cell_type": "code",
   "execution_count": null,
   "metadata": {
    "collapsed": true
   },
   "outputs": [],
   "source": [
    "cs_df = pd.DataFrame()"
   ]
  },
  {
   "cell_type": "code",
   "execution_count": null,
   "metadata": {
    "collapsed": true
   },
   "outputs": [],
   "source": [
    "for team in Cstat.keys():\n",
    "    cs_df[team] = prop_of_reality(str(team),Cstat)    "
   ]
  },
  {
   "cell_type": "code",
   "execution_count": null,
   "metadata": {
    "collapsed": true
   },
   "outputs": [],
   "source": [
    "pd.set_option('display.float_format', lambda x: '%.3f' % x)\n",
    "cs_df.index =['0-7','1-6','2-5','3-4','4-3','5-2','6-1','7-0']\n",
    "cs_df"
   ]
  },
  {
   "cell_type": "code",
   "execution_count": null,
   "metadata": {
    "collapsed": true
   },
   "outputs": [],
   "source": []
  }
 ],
 "metadata": {
  "kernelspec": {
   "display_name": "Python 2",
   "language": "python",
   "name": "python2"
  },
  "language_info": {
   "codemirror_mode": {
    "name": "ipython",
    "version": 2
   },
   "file_extension": ".py",
   "mimetype": "text/x-python",
   "name": "python",
   "nbconvert_exporter": "python",
   "pygments_lexer": "ipython2",
   "version": "2.7.13"
  }
 },
 "nbformat": 4,
 "nbformat_minor": 2
}
